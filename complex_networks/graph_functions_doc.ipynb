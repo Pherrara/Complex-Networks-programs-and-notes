{
 "cells": [
  {
   "cell_type": "code",
   "execution_count": 203,
   "id": "6c2df9c6-ec27-4518-9181-f1688ff79363",
   "metadata": {},
   "outputs": [],
   "source": [
    "def switch_edges(edgelist): #this code was made by me, I could load it as an outside library! does the configuration model\n",
    "    \n",
    "    ordine = [i for i in range(len(edgelist))]\n",
    "    random.shuffle(ordine)\n",
    "    \n",
    "    for i in range(len(edgelist)):\n",
    "        rand = random.randint(0,len(edgelist)-1)\n",
    "\n",
    "        A1 = edgelist[ordine[i]][0]\n",
    "        B1 = edgelist[ordine[i]][1]\n",
    "\n",
    "        A2 = edgelist[rand][0]\n",
    "        B2 = edgelist[rand][1]\n",
    "\n",
    "        if A1 == B2:\n",
    "            i = max(i-1,0)\n",
    "            continue\n",
    "\n",
    "        if A2 == B1:\n",
    "            i = max(i-1,0)\n",
    "            continue\n",
    "\n",
    "        if (A1,B2) in edgelist or (A2,B1) in edgelist or (B1,A2) in edgelist or (B2,A1) in edgelist:\n",
    "            i = max(i-1,0)\n",
    "            continue\n",
    "\n",
    "        tup1 = (A1, B2)\n",
    "        tup2 = (A2, B1)\n",
    "        edgelist[ordine[i]] = tup1\n",
    "        edgelist[rand] = tup2\n",
    "        \n",
    "    return edgelist"
   ]
  },
  {
   "cell_type": "code",
   "execution_count": 62,
   "id": "3ea30eff-68a4-42d1-8f1d-aeef478710ea",
   "metadata": {
    "tags": []
   },
   "outputs": [],
   "source": [
    "def contingency_matrix(partition1, partition2): # partition1 and partition2 are simply the membership vectors of the code\n",
    "    # Compute the number of unique communities in each partition\n",
    "    n1 = max(partition1) + 1\n",
    "    n2 = max(partition2) + 1\n",
    "    \n",
    "    Nnodes = len(partition1) # uguale alla lunghezza di partition2 chiaramente\n",
    "    \n",
    "    # Initialize the contingency matrix with zeros\n",
    "    contingency = [[0 for j in range(n2)] for i in range(n1)]\n",
    "\n",
    "    # Compute the contingency matrix\n",
    "    for node in range(Nnodes):\n",
    "        contingency[partition1[node]][partition2[node]] += 1\n",
    "    \n",
    "    return contingency"
   ]
  },
  {
   "cell_type": "code",
   "execution_count": 65,
   "id": "425751c6-4345-4b62-9ea5-a2bcc04cd699",
   "metadata": {},
   "outputs": [],
   "source": [
    "def abcd_calculator(contingency)\n",
    "    n = len(membership1) #the len of membership 2 is the same!\n",
    "    A = np.sum(contingency, axis = 0)\n",
    "    B = np.sum(contingency, axis = 1)\n",
    "\n",
    "    contingency = np.array(contingency)\n",
    "    n2 = np.sum(contingency**2)\n",
    "\n",
    "    TN = n2 - n\n",
    "\n",
    "    FP = contingency.dot(A).sum() - n2\n",
    "    FN = contingency.T.dot(B).sum() - n2\n",
    "\n",
    "    TP = n**2 - FN - FP - n2\n",
    "    \n",
    "    return TP, FP, FN, TN #returns in order a,b,c,d"
   ]
  }
 ],
 "metadata": {
  "kernelspec": {
   "display_name": "Python 3 (ipykernel)",
   "language": "python",
   "name": "python3"
  },
  "language_info": {
   "codemirror_mode": {
    "name": "ipython",
    "version": 3
   },
   "file_extension": ".py",
   "mimetype": "text/x-python",
   "name": "python",
   "nbconvert_exporter": "python",
   "pygments_lexer": "ipython3",
   "version": "3.10.6"
  }
 },
 "nbformat": 4,
 "nbformat_minor": 5
}
