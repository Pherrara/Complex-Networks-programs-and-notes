{
 "cells": [
  {
   "cell_type": "code",
   "execution_count": null,
   "id": "4e0ae9b1-a331-42ad-88b8-a46a65f9ef9c",
   "metadata": {},
   "outputs": [],
   "source": [
    "import igraph as ig"
   ]
  },
  {
   "cell_type": "code",
   "execution_count": 37,
   "id": "e297748e-fc25-4140-b162-712e92cd168d",
   "metadata": {},
   "outputs": [],
   "source": [
    "g = ig.Graph.Read_Ncol(\"airport_original_edgelist.txt\", names=True, directed=False) # load a graph from edgelist FILE"
   ]
  },
  {
   "cell_type": "code",
   "execution_count": 46,
   "id": "d40c8e4a-18df-40d9-88bd-2a801f911e26",
   "metadata": {},
   "outputs": [],
   "source": [
    "g = ig.Graph(switched_edgelist, directed = False) # load a graph from a edgelist"
   ]
  },
  {
   "cell_type": "code",
   "execution_count": 41,
   "id": "39c89604-ea55-4dfe-99c6-73ef9ece278f",
   "metadata": {},
   "outputs": [],
   "source": [
    "edgelist = g.get_edgelist() # get the edgelist of a graph g"
   ]
  },
  {
   "cell_type": "code",
   "execution_count": 40,
   "id": "fff13e34-ef80-4541-bef1-5ec359d9d289",
   "metadata": {},
   "outputs": [],
   "source": [
    "name_to_id = dict(zip(g.vs['name'], g.vs.indices)) #create nane to ID dictionary"
   ]
  },
  {
   "cell_type": "code",
   "execution_count": null,
   "id": "48939d1c-d783-41d8-8e33-91285e967ed6",
   "metadata": {},
   "outputs": [],
   "source": []
  },
  {
   "cell_type": "code",
   "execution_count": 38,
   "id": "225a9b37-da3a-40ca-93c2-d81cc2999def",
   "metadata": {},
   "outputs": [],
   "source": [
    "conn_comp = g.connected_components() # create all the connected component of a graph"
   ]
  },
  {
   "cell_type": "code",
   "execution_count": 38,
   "id": "dca8e886-be4a-43fc-9d77-c83a963583c7",
   "metadata": {},
   "outputs": [],
   "source": [
    "conn_comp_number0 = g.connected_components().subgraph(0) # this is how to get the graph of the 0-th connected component"
   ]
  },
  {
   "cell_type": "code",
   "execution_count": null,
   "id": "99547c0c-c5c5-4176-96db-4033af61fb5b",
   "metadata": {},
   "outputs": [],
   "source": []
  },
  {
   "cell_type": "code",
   "execution_count": null,
   "id": "582e795e-9c0a-40e0-b882-51fa7c4f71a7",
   "metadata": {},
   "outputs": [],
   "source": [
    "ig.plot(g, layout=\"graphopt\", vertex_size=5, bbox=(800, 450)) # plot a graph"
   ]
  },
  {
   "cell_type": "code",
   "execution_count": null,
   "id": "103e3761-fd96-485a-a165-957ca82d316f",
   "metadata": {},
   "outputs": [],
   "source": []
  },
  {
   "cell_type": "code",
   "execution_count": null,
   "id": "2437f54f-4d84-46c3-ba15-45546d557901",
   "metadata": {},
   "outputs": [],
   "source": [
    "# create an example graph with communities characterized privately\n",
    "g = ig.Graph.Famous('Zachary')\n",
    "membership = g.community_infomap().membership #this \"membership\" can be found by the user, is the membership vector of the nodes\n",
    "vc = ig.VertexClustering(g, membership)\n",
    "\n",
    "# plot the graph with community structure\n",
    "layout = g.layout_fruchterman_reingold()\n",
    "ig.plot(vc, layout=layout)"
   ]
  },
  {
   "cell_type": "code",
   "execution_count": 46,
   "id": "2cf88cd2-d5da-46e3-8eb5-30a1e539e7e1",
   "metadata": {},
   "outputs": [],
   "source": [
    "g = ig.Graph(switched_edgelist, directed = False) # load a graph from a edgelist"
   ]
  },
  {
   "cell_type": "code",
   "execution_count": 48,
   "id": "3bc62ae0-2ae0-4905-bddd-0f81f863706d",
   "metadata": {},
   "outputs": [],
   "source": [
    "community_g = g.community_multilevel() #calculate communities based on Blondel and max of MOD"
   ]
  },
  {
   "cell_type": "code",
   "execution_count": 53,
   "id": "68bd0cac-c6e9-472e-87d9-ddcaec144ea2",
   "metadata": {},
   "outputs": [],
   "source": [
    "community_original_infomap = airports_original.community_infomap() #calculate communities based on infomap random walk"
   ]
  },
  {
   "cell_type": "code",
   "execution_count": null,
   "id": "fda89661-a4f3-4997-8832-13ead776833a",
   "metadata": {},
   "outputs": [],
   "source": [
    "ARI = ig.compare_communities(comm1, comm2, method=\"adjusted_rand\") #compute the ARI between 2 communities"
   ]
  },
  {
   "cell_type": "code",
   "execution_count": 57,
   "id": "d65963f2-ca89-4d04-ba2e-13a0c457f697",
   "metadata": {},
   "outputs": [],
   "source": [
    "membership1 = comm1.membership #get the membership vector of a calculated community"
   ]
  },
  {
   "cell_type": "code",
   "execution_count": 67,
   "id": "33d8db43-452a-4936-b25b-c3edf00c7266",
   "metadata": {},
   "outputs": [],
   "source": [
    "ARI = 2 * (a * d - b * c) / ((a + c) * (b + d) + (a + b) * (c + d)) #this is the formula for the ARI"
   ]
  }
 ],
 "metadata": {
  "kernelspec": {
   "display_name": "Python 3 (ipykernel)",
   "language": "python",
   "name": "python3"
  },
  "language_info": {
   "codemirror_mode": {
    "name": "ipython",
    "version": 3
   },
   "file_extension": ".py",
   "mimetype": "text/x-python",
   "name": "python",
   "nbconvert_exporter": "python",
   "pygments_lexer": "ipython3",
   "version": "3.9.2"
  }
 },
 "nbformat": 4,
 "nbformat_minor": 5
}
