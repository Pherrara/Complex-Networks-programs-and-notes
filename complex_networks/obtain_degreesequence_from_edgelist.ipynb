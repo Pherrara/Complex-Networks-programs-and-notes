{
 "cells": [
  {
   "cell_type": "code",
   "execution_count": null,
   "id": "972f41e3-5a21-43b9-afe2-1f22b1aecc43",
   "metadata": {},
   "outputs": [],
   "source": [
    "import networkx as nx\n",
    "\n",
    "# Define the edge list as a list of tuples\n",
    "edge_list = [(0, 1), (0, 2), (1, 2), (1, 3), (2, 3)]\n",
    "\n",
    "# Create a graph from the edge list\n",
    "G = nx.Graph(edge_list)\n",
    "\n",
    "# Get the degree sequence\n",
    "degree_sequence = sorted([d for n, d in G.degree()], reverse=True)\n",
    "\n",
    "# Print the degree sequence\n",
    "print(degree_sequence)"
   ]
  }
 ],
 "metadata": {
  "kernelspec": {
   "display_name": "Python 3 (ipykernel)",
   "language": "python",
   "name": "python3"
  },
  "language_info": {
   "codemirror_mode": {
    "name": "ipython",
    "version": 3
   },
   "file_extension": ".py",
   "mimetype": "text/x-python",
   "name": "python",
   "nbconvert_exporter": "python",
   "pygments_lexer": "ipython3",
   "version": "3.10.6"
  }
 },
 "nbformat": 4,
 "nbformat_minor": 5
}
