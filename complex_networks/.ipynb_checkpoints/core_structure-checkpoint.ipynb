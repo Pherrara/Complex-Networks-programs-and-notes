{
 "cells": [
  {
   "cell_type": "code",
   "execution_count": null,
   "id": "dd6457df-7982-4c2a-b742-04a09d09ccd3",
   "metadata": {},
   "outputs": [],
   "source": [
    "import networkx as nx\n",
    "\n",
    "# Replace 'edgelist.txt' with the filename of your edgelist file\n",
    "G = nx.read_edgelist('edgelist.txt')\n"
   ]
  },
  {
   "cell_type": "code",
   "execution_count": null,
   "id": "035d2be0-e157-4d8e-9a58-88bb5a1fd035",
   "metadata": {},
   "outputs": [],
   "source": [
    "coreness = nx.core_number(G)\n"
   ]
  },
  {
   "cell_type": "code",
   "execution_count": null,
   "id": "de1a2157-5795-46a7-8f54-41b3fd1b34fd",
   "metadata": {},
   "outputs": [],
   "source": [
    "median_coreness = sorted(coreness.values())[len(coreness) // 2]\n",
    "core_nodes = [n for n in G.nodes() if coreness[n] >= median_coreness]\n",
    "periphery_nodes = [n for n in G.nodes() if coreness[n] < median_coreness]\n"
   ]
  },
  {
   "cell_type": "code",
   "execution_count": null,
   "id": "f4d6e1c4-ca71-45fe-9eea-ef498e616e28",
   "metadata": {},
   "outputs": [],
   "source": [
    "import matplotlib.pyplot as plt\n",
    "\n",
    "# Draw the core nodes in red and the periphery nodes in blue\n",
    "nx.draw_networkx_nodes(G, pos=nx.spring_layout(G), nodelist=core_nodes, node_color='r')\n",
    "nx.draw_networkx_nodes(G, pos=nx.spring_layout(G), nodelist=periphery_nodes, node_color='b')\n",
    "\n",
    "# Draw the edges of the network\n",
    "nx.draw_networkx_edges(G, pos=nx.spring_layout(G))\n",
    "\n",
    "plt.show()\n"
   ]
  }
 ],
 "metadata": {
  "kernelspec": {
   "display_name": "Python 3 (ipykernel)",
   "language": "python",
   "name": "python3"
  },
  "language_info": {
   "codemirror_mode": {
    "name": "ipython",
    "version": 3
   },
   "file_extension": ".py",
   "mimetype": "text/x-python",
   "name": "python",
   "nbconvert_exporter": "python",
   "pygments_lexer": "ipython3",
   "version": "3.10.6"
  }
 },
 "nbformat": 4,
 "nbformat_minor": 5
}
