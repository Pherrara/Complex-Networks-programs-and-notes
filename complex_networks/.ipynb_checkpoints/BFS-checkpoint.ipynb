{
 "cells": [
  {
   "cell_type": "code",
   "execution_count": 35,
   "id": "8bd84290-fbd8-47f3-b368-188948113929",
   "metadata": {},
   "outputs": [
    {
     "name": "stdout",
     "output_type": "stream",
     "text": [
      "['5', '3', '7', '2', '4', '8']\n"
     ]
    }
   ],
   "source": [
    "graph = {\n",
    "  '5' : ['3','7'],\n",
    "  '3' : ['2', '4'],\n",
    "  '7' : ['8'],\n",
    "  '2' : [],\n",
    "  '4' : ['8'],\n",
    "  '8' : []\n",
    "}\n",
    "\n",
    "\n",
    "\n",
    "def bfs(graph, node): #function for BFS\n",
    "    visited = [] # List for already visited nodes.\n",
    "    queue = []         #Initialize a queue, this contains the nodes whose neighbours are yet to be visited\n",
    "    connections = [] # This list, at the end, will contain all the nodes connected to the selected node\n",
    "    \n",
    "    visited.append(node)\n",
    "    queue.append(node)\n",
    "\n",
    "    while len(queue)>0:                    # Creating loop to visit each node\n",
    "        m = queue.pop(0) \n",
    "        connections.append(m)\n",
    "\n",
    "        for neighbour in graph[m]:\n",
    "            if neighbour not in visited:\n",
    "                visited.append(neighbour)\n",
    "                queue.append(neighbour)\n",
    "    \n",
    "    return connections\n",
    "\n",
    "print(bfs(graph, '5'))        # function calling"
   ]
  }
 ],
 "metadata": {
  "kernelspec": {
   "display_name": "Python 3 (ipykernel)",
   "language": "python",
   "name": "python3"
  },
  "language_info": {
   "codemirror_mode": {
    "name": "ipython",
    "version": 3
   },
   "file_extension": ".py",
   "mimetype": "text/x-python",
   "name": "python",
   "nbconvert_exporter": "python",
   "pygments_lexer": "ipython3",
   "version": "3.9.2"
  }
 },
 "nbformat": 4,
 "nbformat_minor": 5
}
