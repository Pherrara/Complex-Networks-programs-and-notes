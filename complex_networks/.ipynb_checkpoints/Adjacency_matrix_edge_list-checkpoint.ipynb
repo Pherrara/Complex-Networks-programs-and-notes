{
 "cells": [
  {
   "cell_type": "markdown",
   "id": "8ece88bd-cfd5-4cf6-9b7f-0831d15f1f55",
   "metadata": {},
   "source": [
    "### If we represent a network with an adjacency matrix, (a graph, see custom data structures), we make a matrix with nxn squares, n= number of nodes, but the matrix is symmetrical (if the connections are not directional), and on the diagonal is full of 0s, because there are no self connections.\n",
    "### The matrix represents a link if theres a 1 in the posizion M\\[2\\]\\[3\\] so between nodes number 3 and 4 (python counts from 0)\n",
    "### So we don't have n^2 information, just (n^2-n)/2, so n(n-1)/2, because it's symmetrical ( the fraction 2) and we have no information on the diagonal (the minus n).\n",
    "### If we sum the elements in a column or row we find the degree of a node."
   ]
  },
  {
   "cell_type": "markdown",
   "id": "68ff2a0d-4287-4af9-9009-2f6877776b34",
   "metadata": {},
   "source": [
    "### If we have self links, or directional links, we can produce a different thing, a \"edge list\", where we just list a list like:\n",
    "# 1   2\n",
    "# 2   1\n",
    "# 3   4\n",
    "# 4   1\n",
    "# 4   4\n",
    "# this means 1 is connected to 2, 2 is connected to 1, 3 is connected to 4, 4 is connected to 1, 4 is connected to 4."
   ]
  }
 ],
 "metadata": {
  "kernelspec": {
   "display_name": "Python 3 (ipykernel)",
   "language": "python",
   "name": "python3"
  },
  "language_info": {
   "codemirror_mode": {
    "name": "ipython",
    "version": 3
   },
   "file_extension": ".py",
   "mimetype": "text/x-python",
   "name": "python",
   "nbconvert_exporter": "python",
   "pygments_lexer": "ipython3",
   "version": "3.9.2"
  }
 },
 "nbformat": 4,
 "nbformat_minor": 5
}
