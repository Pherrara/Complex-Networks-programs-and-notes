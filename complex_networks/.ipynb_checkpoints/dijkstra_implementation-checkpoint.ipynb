{
 "cells": [
  {
   "cell_type": "code",
   "execution_count": 8,
   "id": "10644bca-955c-4a74-9ec6-91645d0c2774",
   "metadata": {},
   "outputs": [],
   "source": [
    "# Let's use the graph we used at lesson!\n",
    "\n",
    "graph = {\n",
    "    'A': {'B': 1, 'C': 2, 'E':6},\n",
    "    'B': {'A': 1, 'D': 1, 'E': 3},\n",
    "    'C': {'A': 2, 'D': 2},\n",
    "    'D': {'B': 1, 'C': 2, 'E': 1},\n",
    "    'E': {'B': 3, 'D':1, 'A' : 6, 'F': 1},\n",
    "    'F': {'E': 1}\n",
    "}\n",
    "\n",
    "starting_node = 'A'\n",
    "ending_node = 'F'"
   ]
  },
  {
   "cell_type": "code",
   "execution_count": 9,
   "id": "8d5b08c7-366e-4056-8a49-cd26e9ba373f",
   "metadata": {},
   "outputs": [
    {
     "name": "stdout",
     "output_type": "stream",
     "text": [
      "{'A': 0, 'B': inf, 'C': inf, 'D': inf, 'E': inf, 'F': inf}\n"
     ]
    }
   ],
   "source": [
    "# Initialize the distance to each node to infinity\n",
    "distances = {}\n",
    "\n",
    "for node in graph:\n",
    "    distances[node] = float(\"inf\")\n",
    "    \n",
    "# Set the distance to the start node to 0\n",
    "distances[starting_node] = 0\n",
    "\n",
    "print (distances)"
   ]
  },
  {
   "cell_type": "code",
   "execution_count": 10,
   "id": "d399ab04-ccb1-41bf-97a3-6bec2649b45f",
   "metadata": {},
   "outputs": [
    {
     "name": "stdout",
     "output_type": "stream",
     "text": [
      "['A', 'B', 'C', 'D', 'E', 'F']\n"
     ]
    }
   ],
   "source": [
    "# Initialize the list of unvisited nodes\n",
    "unvisited = []\n",
    "for node in graph:\n",
    "    unvisited.append(node)\n",
    "\n",
    "print(unvisited)"
   ]
  },
  {
   "cell_type": "code",
   "execution_count": 11,
   "id": "6271d13e-61f7-43ef-a1d4-e6ce2255dcf5",
   "metadata": {},
   "outputs": [
    {
     "name": "stdout",
     "output_type": "stream",
     "text": [
      "We are in node A, and it's distant 0 from the starting point.\n",
      "We are in node B, and it's distant 1 from the starting point.\n",
      "We are in node C, and it's distant 2 from the starting point.\n",
      "We are in node D, and it's distant 2 from the starting point.\n",
      "We are in node E, and it's distant 3 from the starting point.\n",
      "We are in node F, and it's distant 4 from the starting point.\n",
      "Success! We arrived at the end node F from the starting node A.\n"
     ]
    }
   ],
   "source": [
    "while unvisited:\n",
    "    # Select the node with the smallest distance\n",
    "    min_distance = float(\"inf\")\n",
    "    for node in unvisited:\n",
    "        if distances[node] < min_distance:\n",
    "            current_node = node\n",
    "            min_distance = distances[node]\n",
    "            \n",
    "    # Let's check whats happening!        \n",
    "    print(\"We are in node {}, and it's distant {} from the starting point.\".format(current_node , min_distance))\n",
    "    \n",
    "    # If we have reached the end node, we can stop\n",
    "    if current_node == ending_node:\n",
    "        path_lenght = min_distance\n",
    "        print(\"Success! We arrived at the end node {} from the starting node {}.\".format(ending_node,starting_node))\n",
    "        break\n",
    "        \n",
    "    # Here we remove the current node we're working with from the list of unvisited nodes\n",
    "    unvisited.remove(current_node)\n",
    "\n",
    "    # Update the distances to the neighbors of the current node\n",
    "    for neighbor in graph[current_node]:\n",
    "        d = distances[current_node] + graph[current_node][neighbor]\n",
    "        if d < distances[neighbor]:\n",
    "            distances[neighbor] = d"
   ]
  },
  {
   "cell_type": "code",
   "execution_count": 12,
   "id": "38938de2-39ad-4828-8c00-205065dd8dce",
   "metadata": {},
   "outputs": [
    {
     "name": "stdout",
     "output_type": "stream",
     "text": [
      "{'A': 0, 'B': 1, 'C': 2, 'D': 2, 'E': 3, 'F': 4}\n"
     ]
    }
   ],
   "source": [
    "print (distances)"
   ]
  },
  {
   "cell_type": "code",
   "execution_count": 13,
   "id": "a6d13dff-60a4-4adf-99bb-574224dc7b23",
   "metadata": {},
   "outputs": [
    {
     "name": "stdout",
     "output_type": "stream",
     "text": [
      "We are tracing back our path, we are currently on node F\n",
      "We are tracing back our path, we are currently on node E\n",
      "We are tracing back our path, we are currently on node D\n",
      "We are tracing back our path, we are currently on node B\n",
      "['A', 'B', 'D', 'E', 'F']\n",
      "the path lenght is: 4\n"
     ]
    }
   ],
   "source": [
    "# Build the shortest path\n",
    "path = []\n",
    "while ending_node != starting_node:\n",
    "    path.append(ending_node)\n",
    "    print(\"We are tracing back our path, we are currently on node {}\".format(ending_node))\n",
    "    for neighbor in graph[ending_node]:\n",
    "        if distances[ending_node] - graph[ending_node][neighbor] == distances[neighbor]:\n",
    "            ending_node = neighbor\n",
    "            break\n",
    "            \n",
    "# Then we can append the starting node and reverse the list          \n",
    "path.append(starting_node)\n",
    "path.reverse()\n",
    "\n",
    "print(path)\n",
    "print(\"the path lenght is: {}\".format(path_lenght))"
   ]
  },
  {
   "cell_type": "code",
   "execution_count": 13,
   "id": "e0451a56-3e10-421c-a0f2-088860853b77",
   "metadata": {},
   "outputs": [],
   "source": [
    "# problemi di sto codice: 1) Trova un unico shorter path 2) Non supporta grafici direzionati"
   ]
  }
 ],
 "metadata": {
  "kernelspec": {
   "display_name": "Python 3 (ipykernel)",
   "language": "python",
   "name": "python3"
  },
  "language_info": {
   "codemirror_mode": {
    "name": "ipython",
    "version": 3
   },
   "file_extension": ".py",
   "mimetype": "text/x-python",
   "name": "python",
   "nbconvert_exporter": "python",
   "pygments_lexer": "ipython3",
   "version": "3.10.6"
  }
 },
 "nbformat": 4,
 "nbformat_minor": 5
}
