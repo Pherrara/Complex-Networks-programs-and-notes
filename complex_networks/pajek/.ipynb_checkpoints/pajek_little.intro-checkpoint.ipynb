{
 "cells": [
  {
   "cell_type": "raw",
   "id": "e49b3b8c-5c17-4740-bc1e-698cd24b41f5",
   "metadata": {},
   "source": [
    "Layout- Kawata Kawaii - separate components\n",
    "anche colorarli"
   ]
  },
  {
   "cell_type": "raw",
   "id": "af37cac5-b772-43d3-8875-329b4b3d2919",
   "metadata": {},
   "source": [
    "./Connected_Subgraphs.exe Airport_net 1"
   ]
  },
  {
   "cell_type": "raw",
   "id": "885a30fc-c551-4f8c-bcb4-60496f063b28",
   "metadata": {},
   "source": [
    "Il comando sopra va lanciato da terminale, e usa radatool, se al posto di 1 mettiamo 5 mi divide in connected communities ma con numero di nodi maggioriuguali di 5"
   ]
  }
 ],
 "metadata": {
  "kernelspec": {
   "display_name": "Python 3 (ipykernel)",
   "language": "python",
   "name": "python3"
  },
  "language_info": {
   "codemirror_mode": {
    "name": "ipython",
    "version": 3
   },
   "file_extension": ".py",
   "mimetype": "text/x-python",
   "name": "python",
   "nbconvert_exporter": "python",
   "pygments_lexer": "ipython3",
   "version": "3.9.2"
  }
 },
 "nbformat": 4,
 "nbformat_minor": 5
}
