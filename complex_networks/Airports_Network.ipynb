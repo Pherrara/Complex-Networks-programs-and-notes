{
 "cells": [
  {
   "cell_type": "markdown",
   "id": "72332672-6152-4821-b038-afe13cd11fca",
   "metadata": {},
   "source": [
    "### We're working with a file with more than 1 700 000 lines, let's obtain just the data we want, we keep a flight if: \n",
    "- The segment number is 1, so it's the first segment of a flight. \n",
    "- The first point of the segment is the airport of departure, as a check.\n",
    "- The departure and arrival airports are different, so we don't have self-links"
   ]
  },
  {
   "cell_type": "code",
   "execution_count": 1,
   "id": "7dbc3f02-0413-4577-9154-e8f3bbc6603f",
   "metadata": {},
   "outputs": [],
   "source": [
    "file = open(\"/home/pher/Documents/chiavetta_micc/zip/20170901_m1.so6\") # we open the file to read every line and then we close it\n",
    "data = file.readlines()\n",
    "file.close()"
   ]
  },
  {
   "cell_type": "code",
   "execution_count": 2,
   "id": "0bbdc55f-bb54-4a42-9596-fd7a8b51dbcd",
   "metadata": {},
   "outputs": [],
   "source": [
    "datalist = [0]*len(data) # we create an empty list."
   ]
  },
  {
   "cell_type": "code",
   "execution_count": 3,
   "id": "92a22487-3a04-4f73-b22c-ccf6a714389d",
   "metadata": {},
   "outputs": [],
   "source": [
    "for i in range(len(data)): # we clean the data a little, and assign it to a new list, that now has a sublist of strings.\n",
    "    data[i] = data[i].replace(\"_\",\" \")\n",
    "    datalist[i]=data[i].split(\" \")\n",
    "    \n",
    "del data"
   ]
  },
  {
   "cell_type": "code",
   "execution_count": 4,
   "id": "022ad5d6-4f24-4de9-9926-d46524b866e8",
   "metadata": {},
   "outputs": [
    {
     "name": "stdout",
     "output_type": "stream",
     "text": [
      "1751823\n"
     ]
    }
   ],
   "source": [
    "print(len(datalist)) # this is how many flights data we have in the beginning"
   ]
  },
  {
   "cell_type": "code",
   "execution_count": 5,
   "id": "da3479d1-33c5-43c8-8955-ce1c5e1ff61f",
   "metadata": {},
   "outputs": [
    {
     "name": "stdout",
     "output_type": "stream",
     "text": [
      "['EDDF', '$AAAA', 'EDDF', 'EGLL', 'A20N', '105100', '105131', '4', '15', '0', 'DLH906', '170901', '170901', '3002.000000', '514.233333', '3000.983333', '514.016667', '210657801', '1', '1.026152', '0\\n']\n"
     ]
    }
   ],
   "source": [
    "print(datalist[7]) #this is a typical element now"
   ]
  },
  {
   "cell_type": "code",
   "execution_count": 6,
   "id": "6208b875-7ca4-4663-a61e-49447692d740",
   "metadata": {},
   "outputs": [],
   "source": [
    "# Let's check how many unique airports are mentioned in our 1 750 000 rows of data\n",
    "database10 = set()\n",
    "for i in range(len(datalist)):\n",
    "    if str(datalist[i][2]) not in database10:\n",
    "        database10.add(str(datalist[i][2]))\n",
    "    if str(datalist[i][3]) not in database10:\n",
    "        database10.add(str(datalist[i][3]))    "
   ]
  },
  {
   "cell_type": "code",
   "execution_count": 7,
   "id": "6d147894-339c-4228-adda-2739ce287ceb",
   "metadata": {},
   "outputs": [
    {
     "name": "stdout",
     "output_type": "stream",
     "text": [
      "1398\n"
     ]
    }
   ],
   "source": [
    "print(len(database10)) # we have this many unique airports"
   ]
  },
  {
   "cell_type": "code",
   "execution_count": 8,
   "id": "a40c0edc-859f-4073-a511-ab1543517d3a",
   "metadata": {},
   "outputs": [],
   "source": [
    "output = [] # we now apply our conditions\n",
    "for i in range (len(datalist)):\n",
    "    if (datalist[i][18] == \"1\") and (datalist[i][2] != datalist[i][3]) and (datalist[i][0] == datalist[i][2]):\n",
    "        output.append(datalist[i])"
   ]
  },
  {
   "cell_type": "code",
   "execution_count": 9,
   "id": "b5e43804-a9d2-4c4a-a3db-328b014eb04b",
   "metadata": {},
   "outputs": [
    {
     "name": "stdout",
     "output_type": "stream",
     "text": [
      "36522\n",
      "[['EDDF', '$AAAA', 'EDDF', 'EGLL', 'A20N', '105100', '105131', '4', '15', '0', 'DLH906', '170901', '170901', '3002.000000', '514.233333', '3000.983333', '514.016667', '210657801', '1', '1.026152', '0\\n'], ['KEWR', '$AABN', 'KEWR', 'LFPG', 'B764', '223000', '223029', '0', '110', '0', 'UAL57', '170831', '170831', '2441.800000', '-4450.100000', '2455.883333', '-4437.833333', '210643131', '1', '16.868005', '0\\n'], ['EDDM', '$AABw', 'EDDM', 'LRSB', 'CRJ9', '124800', '124829', '15', '25', '0', 'DLH5PP', '170901', '170901', '2901.233333', '707.166667', '2901.233333', '708.750000', '210662992', '1', '1.052169', '0\\n']]\n"
     ]
    }
   ],
   "source": [
    "print(len(output))\n",
    "print(output[0:3]) #Output is now a list of strings."
   ]
  },
  {
   "cell_type": "code",
   "execution_count": 10,
   "id": "1048654f-e5fa-4ea1-8fe8-efd3b6937aab",
   "metadata": {},
   "outputs": [],
   "source": [
    "output = str(output) # let's cliean it from useless char\n",
    "output = output.replace(\"[\",\"\")\n",
    "output = output.replace(\"]\",\"\")\n",
    "output = output.replace(\"'\",\"\")\n",
    "output = output.replace(\",\",\"\")\n"
   ]
  },
  {
   "cell_type": "code",
   "execution_count": 11,
   "id": "ce65a651-f82d-4a73-b050-581219d2ad56",
   "metadata": {
    "tags": []
   },
   "outputs": [
    {
     "name": "stdout",
     "output_type": "stream",
     "text": [
      "5116432\n"
     ]
    }
   ],
   "source": [
    "print(len(output)) # now output is just a very very long string"
   ]
  },
  {
   "cell_type": "code",
   "execution_count": 12,
   "id": "01bdb1bd-5d83-4dad-8f05-834d8c0a6805",
   "metadata": {},
   "outputs": [],
   "source": [
    "output = output.split(\"\\\\n \") # Let's split it in a list of string"
   ]
  },
  {
   "cell_type": "code",
   "execution_count": 13,
   "id": "fdb2fbf1-7c32-462e-b7c3-ac5dd752cff1",
   "metadata": {},
   "outputs": [
    {
     "name": "stdout",
     "output_type": "stream",
     "text": [
      "36522\n",
      "EDDF $AAAA EDDF EGLL A20N 105100 105131 4 15 0 DLH906 170901 170901 3002.000000 514.233333 3000.983333 514.016667 210657801 1 1.026152 0\n"
     ]
    }
   ],
   "source": [
    "print(len(output))\n",
    "print(output[0])"
   ]
  },
  {
   "cell_type": "raw",
   "id": "a4e12137-6e58-46f9-8f61-b647e0774e83",
   "metadata": {},
   "source": [
    "file=open(\"output.csv\",\"w+\") # here we write output.csv as a file, just for reference\n",
    "for i in range(len(output)):\n",
    "    file.write(str(output[i]))\n",
    "    file.write(\"\\n\")"
   ]
  },
  {
   "cell_type": "markdown",
   "id": "e393110c-c401-47d0-8a55-6a89818f5704",
   "metadata": {},
   "source": [
    "### From here on we do a bit of Complex Networks work"
   ]
  },
  {
   "cell_type": "code",
   "execution_count": 14,
   "id": "e570b5dd-0059-49d4-83dd-e3764248ec73",
   "metadata": {
    "tags": []
   },
   "outputs": [],
   "source": [
    "outputl = [0] * len(output) # let's create a list, from output\n",
    "\n",
    "for i in range (len(output)):\n",
    "    outputl[i] = output[i].split(\" \")"
   ]
  },
  {
   "cell_type": "code",
   "execution_count": 15,
   "id": "cb9e2a47-184d-455b-a26f-e859fb862a18",
   "metadata": {},
   "outputs": [
    {
     "name": "stdout",
     "output_type": "stream",
     "text": [
      "['ULMM', '$DsCD', 'ULMM', 'UMKK', 'B735', '182000', '182207', '3', '10', '0', 'AUL529', '170901', '170901', '4126.900000', '1965.066667', '4126.350000', '1965.100000', '210673953', '1', '0.550132', '0']\n",
      "ULMM\n"
     ]
    }
   ],
   "source": [
    "print(outputl[15232]) # this is what outputl contains\n",
    "print(outputl[15232][2])"
   ]
  },
  {
   "cell_type": "code",
   "execution_count": 16,
   "id": "4fe90777-1fa8-4c0f-8b9d-802a09a86209",
   "metadata": {},
   "outputs": [],
   "source": [
    "register = {} # we make a register with information on the flights\n",
    "indegree = {}\n",
    "outdegree = {}\n",
    "\n",
    "\n",
    "for i in range(len(outputl)):\n",
    "    if str(str(outputl[i][2]) + \"_\" + str(outputl[i][3])) in register:\n",
    "        register[str(str(outputl[i][2]) + \"_\" + str(outputl[i][3]))] += 1\n",
    "    else:\n",
    "        register[str(str(outputl[i][2]) + \"_\" + str(outputl[i][3]))] = 1\n",
    "        if str(outputl[i][3]) in indegree:\n",
    "            indegree[str(outputl[i][3])] += 1\n",
    "        else:\n",
    "            indegree[str(outputl[i][3])] = 1\n",
    "        if str(outputl[i][2]) in outdegree:\n",
    "            outdegree[str(outputl[i][2])] += 1\n",
    "        else:\n",
    "            outdegree[str(outputl[i][2])] = 1\n",
    "    \n",
    "        "
   ]
  },
  {
   "cell_type": "code",
   "execution_count": 17,
   "id": "ca1053e8-7e37-4ac1-8c12-b7c45b4b8e2f",
   "metadata": {
    "tags": []
   },
   "outputs": [
    {
     "name": "stdout",
     "output_type": "stream",
     "text": [
      "18\n"
     ]
    }
   ],
   "source": [
    "print(register[\"EDDF_EGLL\"]) # we can see how much flight departed from EDDF and arrived at EGLL"
   ]
  },
  {
   "cell_type": "code",
   "execution_count": 18,
   "id": "d429ac27-1594-4a7c-aabb-e8b30984c279",
   "metadata": {},
   "outputs": [
    {
     "name": "stdout",
     "output_type": "stream",
     "text": [
      "16640\n"
     ]
    }
   ],
   "source": [
    "print(len(register)) # this is the number of connections"
   ]
  },
  {
   "cell_type": "code",
   "execution_count": 19,
   "id": "3658bb4c-c512-4ac6-bd27-6cc8de83d5e8",
   "metadata": {
    "tags": []
   },
   "outputs": [],
   "source": [
    "# Let's create a database for ICAO codes of flights we have considering\n",
    "\n",
    "database1 = set()\n",
    "for i in range(len(outputl)):\n",
    "    if str(outputl[i][2]) not in database1:\n",
    "        database1.add(str(outputl[i][2]))\n",
    "    if str(outputl[i][3]) not in database1:\n",
    "        database1.add(str(outputl[i][3]))"
   ]
  },
  {
   "cell_type": "code",
   "execution_count": 20,
   "id": "7ee3c70a-bc49-4bd6-bc67-8625590fc56f",
   "metadata": {},
   "outputs": [
    {
     "name": "stdout",
     "output_type": "stream",
     "text": [
      "Our database contains 1388 airports\n"
     ]
    }
   ],
   "source": [
    "print(\"Our database contains {} airports\".format(len(database1)))"
   ]
  },
  {
   "cell_type": "markdown",
   "id": "a25f8664-a4b2-4cd9-8311-799f15e407f0",
   "metadata": {},
   "source": [
    "### We can make a code to check how much flights are there from a departure airport to an arrival one\n",
    "### Just input from keyboard the ICAO code of the two airports, when asked. Lowercase works too"
   ]
  },
  {
   "cell_type": "raw",
   "id": "5845b135-9fe1-4cb9-9785-1d1320786cda",
   "metadata": {},
   "source": [
    "departure = input(\"Please insert the ICAO code of the departure airport:\")\n",
    "departure = departure.upper()\n",
    "if departure not in database1:\n",
    "    raise NameError(\"The inserted airport ({}) is not in our database\".format(departure))\n",
    "    \n",
    "arrival = input(\"Please insert the ICAO code of the arrival airport:\")\n",
    "arrival = arrival.upper()\n",
    "if arrival not in database1:\n",
    "    raise NameError(\"The inserted airport ({}) is not in our database\".format(arrival))\n",
    "\n",
    "if str(str(departure) + \"_\" + str(arrival)) in register:\n",
    "    print(\"From airport \" + str(departure) + \" to airport \" + str(arrival) + \" there are \" + str(register[str(str(departure) + \"_\" + str(arrival))]) + \" flights a day.\")\n",
    "else:\n",
    "    print(\"From airport \" + str(departure) + \" to airport \" + str(arrival) + \" there are no flights.\")"
   ]
  },
  {
   "cell_type": "markdown",
   "id": "27ebb10e-c6ba-4204-a00a-41a71dc73d10",
   "metadata": {},
   "source": [
    "### Let's write a code to calculate instrenght and outstrenght of the airports"
   ]
  },
  {
   "cell_type": "code",
   "execution_count": 21,
   "id": "05d44c06-6d7d-4fb3-8a8a-675d56b69fc3",
   "metadata": {},
   "outputs": [],
   "source": [
    "instrenght = {}\n",
    "outstrenght = {}\n",
    "\n",
    "for i in range(len(outputl)):\n",
    "    if str(outputl[i][3]) in instrenght:\n",
    "        instrenght[str(outputl[i][3])] += 1\n",
    "    else:\n",
    "        instrenght[str(outputl[i][3])] = 1\n",
    "    \n",
    "    if str(outputl[i][2]) in outstrenght:\n",
    "        outstrenght[str(outputl[i][2])] += 1\n",
    "    else:\n",
    "        outstrenght[str(outputl[i][2])] = 1"
   ]
  },
  {
   "cell_type": "markdown",
   "id": "8f2f086a-f806-4557-b054-71b620023ea1",
   "metadata": {},
   "source": [
    "### This code is pretty similar to the last one, you input a ICAO code and the program tells you information about the flight degrees"
   ]
  },
  {
   "cell_type": "raw",
   "id": "70f24d3a-cdeb-499b-8a50-dbfd0e459d70",
   "metadata": {},
   "source": [
    "airport = input(\"Please insert the ICAO code of the airport:\")\n",
    "airport = airport.upper()\n",
    "if airport not in database1:\n",
    "    raise NameError(\"The inserted airport ({}) is not in our database\".format(airport))\n",
    "    \n",
    "v1 = indegree[str(airport)]\n",
    "v2 = instrenght[str(airport)]\n",
    "v3 = outdegree[str(airport)]\n",
    "v4 = outstrenght[str(airport)]\n",
    "v0 = str(airport)\n",
    "\n",
    "if str(airport) in database1:\n",
    "    print(\"The selected airport ({}) has: in-degree: {} with strenght: {} and out-degree: {} with strenght: {}\".format(v0,v1,v2,v3,v4))\n"
   ]
  },
  {
   "cell_type": "markdown",
   "id": "ff69e95c-ad18-42c9-8771-05432670d26e",
   "metadata": {},
   "source": [
    "### I added a few lines of code to check the top 10 airports for degree, strenght ecc."
   ]
  },
  {
   "cell_type": "code",
   "execution_count": 22,
   "id": "728fb6d7-ad8f-4e81-a9bd-e5cca8d65375",
   "metadata": {
    "tags": []
   },
   "outputs": [
    {
     "name": "stdout",
     "output_type": "stream",
     "text": [
      "[('LTBA', 241), ('EHAM', 237), ('LFPG', 232), ('EDDF', 219), ('EDDM', 188), ('LEMD', 171), ('LEBL', 167), ('EGSS', 167), ('EGLL', 161), ('LIRF', 160)]\n"
     ]
    }
   ],
   "source": [
    "top = sorted(indegree.items(), key=lambda x: -x[1]) #top airports indegree\n",
    "print(top[0:10])"
   ]
  },
  {
   "cell_type": "code",
   "execution_count": 23,
   "id": "ce734c94-5849-48dd-883e-9594cc670046",
   "metadata": {
    "tags": []
   },
   "outputs": [
    {
     "name": "stdout",
     "output_type": "stream",
     "text": [
      "[('EHAM', 806), ('LFPG', 768), ('EDDF', 744), ('LTBA', 724), ('EGLL', 710), ('EDDM', 624), ('LEMD', 592), ('LEBL', 547), ('LIRF', 522), ('EGKK', 502)]\n"
     ]
    }
   ],
   "source": [
    "top = sorted(instrenght.items(), key=lambda x: -x[1]) #top airports instrenght\n",
    "print(top[0:10])"
   ]
  },
  {
   "cell_type": "code",
   "execution_count": 24,
   "id": "4540d57b-61b2-42f0-9d2f-5e1c07c2bdbd",
   "metadata": {
    "tags": []
   },
   "outputs": [
    {
     "name": "stdout",
     "output_type": "stream",
     "text": [
      "[('LTBA', 245), ('EHAM', 244), ('LFPG', 237), ('EDDF', 218), ('EDDM', 188), ('LEMD', 178), ('LEBL', 167), ('EGLL', 164), ('LOWW', 158), ('EGSS', 158)]\n"
     ]
    }
   ],
   "source": [
    "top = sorted(outdegree.items(), key=lambda x: -x[1]) #top airports outdegree\n",
    "print(top[0:10])"
   ]
  },
  {
   "cell_type": "code",
   "execution_count": 25,
   "id": "4215f8df-0659-4c0f-b186-b04146a2dde3",
   "metadata": {
    "tags": []
   },
   "outputs": [
    {
     "name": "stdout",
     "output_type": "stream",
     "text": [
      "[('EHAM', 813), ('LFPG', 800), ('EGLL', 745), ('EDDF', 736), ('LTBA', 732), ('LEMD', 619), ('EDDM', 618), ('LEBL', 543), ('EGKK', 487), ('LIRF', 486)]\n"
     ]
    }
   ],
   "source": [
    "top = sorted(outstrenght.items(), key=lambda x: -x[1]) #top airports outstrenght\n",
    "print(top[0:10])"
   ]
  },
  {
   "cell_type": "code",
   "execution_count": 26,
   "id": "7227c3a5-b131-494e-9969-8f4597a8720e",
   "metadata": {},
   "outputs": [],
   "source": [
    "import igraph as ig\n",
    "import matplotlib.pyplot as plt\n",
    "import numpy as np\n",
    "import pandas as pd"
   ]
  },
  {
   "cell_type": "code",
   "execution_count": 27,
   "id": "6df9ba1e-e593-4953-9a8f-d16c9f8e9a52",
   "metadata": {
    "tags": []
   },
   "outputs": [],
   "source": [
    "nnodes = len(database1)"
   ]
  },
  {
   "cell_type": "code",
   "execution_count": 28,
   "id": "71a2d006-3bf0-4fe9-b838-e39bb5a10814",
   "metadata": {
    "tags": []
   },
   "outputs": [],
   "source": [
    "string1 = str(database1)"
   ]
  },
  {
   "cell_type": "code",
   "execution_count": 29,
   "id": "c4542d99-d120-4fa3-a861-6e3182d0b675",
   "metadata": {
    "tags": []
   },
   "outputs": [],
   "source": [
    "string1 = string1.replace(\"'\",\"\")\n",
    "string1 = string1.replace(\"{\",\"\")\n",
    "string1 = string1.replace(\"}\",\"\")\n",
    "string1 = string1.replace(\",\",\"\")"
   ]
  },
  {
   "cell_type": "code",
   "execution_count": 30,
   "id": "e3d5037a-52bb-4b0a-99a9-5e283da5e749",
   "metadata": {
    "tags": []
   },
   "outputs": [],
   "source": [
    "list1 = string1.split(\" \")"
   ]
  },
  {
   "cell_type": "code",
   "execution_count": 31,
   "id": "bf869424-a16b-4a8f-8caa-3090c763d14c",
   "metadata": {
    "tags": []
   },
   "outputs": [],
   "source": [
    "list1.sort()"
   ]
  },
  {
   "cell_type": "code",
   "execution_count": 32,
   "id": "dea873d7-9d87-4bf8-a491-b3135f560571",
   "metadata": {
    "tags": []
   },
   "outputs": [
    {
     "name": "stdout",
     "output_type": "stream",
     "text": [
      "['BGMV', 'BGSF', 'BIKF', 'BIRK', 'BKPR', 'CYBG', 'CYEG', 'CYHZ', 'CYJT', 'CYOW', 'CYPQ', 'CYQX', 'CYTR', 'CYUL', 'CYVR', 'CYYC', 'CYYR', 'CYYT', 'CYYZ', 'DAAE', 'DAAG', 'DAAQ', 'DAAS', 'DAAV', 'DABB', 'DABC', 'DAOF', 'DAON', 'DAOO', 'DAUA', 'DAUG', 'DAUH', 'DAUZ', 'DBBB', 'DFFD', 'DGAA', 'DIAP', 'DNAA', 'DNMM', 'DNPO', 'DRRN', 'DTMB', 'DTNH', 'DTTA', 'DTTJ', 'DXXX', 'EBAW', 'EBBE', 'EBBR', 'EBCI', 'EBCV', 'EBKH', 'EBKT', 'EBLG', 'EBMB', 'EBOS', 'EDAC', 'EDAD', 'EDAH', 'EDAQ', 'EDAV', 'EDAY', 'EDAZ', 'EDBK', 'EDBM', 'EDBN', 'EDCG', 'EDDB', 'EDDC', 'EDDE', 'EDDF', 'EDDG', 'EDDH', 'EDDK', 'EDDL', 'EDDM', 'EDDN', 'EDDP', 'EDDR', 'EDDS', 'EDDT', 'EDDV', 'EDDW', 'EDEN', 'EDFB', 'EDFC', 'EDFE', 'EDFH', 'EDFL', 'EDFM', 'EDFQ', 'EDFR', 'EDFU', 'EDFV', 'EDFZ', 'EDGE', 'EDGS', 'EDHA', 'EDHE', 'EDHI', 'EDHK', 'EDHL', 'EDHX', 'EDJA', 'EDKB', 'EDLA', 'EDLB', 'EDLD', 'EDLE', 'EDLI', 'EDLM', 'EDLN', 'EDLP', 'EDLS', 'EDLT', 'EDLV', 'EDLW', 'EDMA', 'EDMB', 'EDML', 'EDMO', 'EDMS', 'EDMV', 'EDMY', 'EDNY', 'EDOP', 'EDOY', 'EDPA', 'EDQA', 'EDQG', 'EDQH', 'EDQM', 'EDQT', 'EDRA', 'EDRK', 'EDRT', 'EDRY', 'EDRZ', 'EDSB', 'EDSZ', 'EDTD', 'EDTF', 'EDTG', 'EDTL', 'EDTM', 'EDTW', 'EDTY', 'EDVE', 'EDVK', 'EDVM', 'EDVY', 'EDVZ', 'EDWE', 'EDWF', 'EDWI', 'EDWQ', 'EDXO', 'EDXR', 'EDXW', 'EEKA', 'EEKE', 'EETN', 'EETU', 'EFHF', 'EFHK', 'EFIV', 'EFJO', 'EFJY', 'EFKE', 'EFKI', 'EFKK', 'EFKS', 'EFKT', 'EFKU', 'EFMA', 'EFOU', 'EFPO', 'EFRO', 'EFSA', 'EFSI', 'EFTP', 'EFTU', 'EFVA', 'EGAA', 'EGAB', 'EGAC', 'EGAD', 'EGAE', 'EGBB', 'EGBJ', 'EGBK', 'EGBN', 'EGBP', 'EGBW', 'EGCC', 'EGCM', 'EGCN', 'EGCW', 'EGEC', 'EGET', 'EGFF', 'EGGD', 'EGGP', 'EGGW', 'EGHF', 'EGHH', 'EGHI', 'EGHL', 'EGHQ', 'EGJA', 'EGJB', 'EGJJ', 'EGKA', 'EGKB', 'EGKK', 'EGLC', 'EGLD', 'EGLF', 'EGLK', 'EGLL', 'EGMC', 'EGMD', 'EGNC', 'EGNE', 'EGNH', 'EGNJ', 'EGNL', 'EGNM', 'EGNO', 'EGNR', 'EGNS', 'EGNT', 'EGNV', 'EGNX', 'EGOV', 'EGPA', 'EGPB', 'EGPC', 'EGPD', 'EGPE', 'EGPF', 'EGPH', 'EGPI', 'EGPK', 'EGPL', 'EGPM', 'EGPN', 'EGPO', 'EGPR', 'EGPU', 'EGQS', 'EGSC', 'EGSG', 'EGSH', 'EGSS', 'EGSU', 'EGSX', 'EGTC', 'EGTE', 'EGTF', 'EGTK', 'EGTR', 'EGUN', 'EGVA', 'EGVN', 'EGWU', 'EGXC', 'EGXW', 'EGYD', 'EHAM', 'EHBD', 'EHBK', 'EHBL', 'EHEH', 'EHFE', 'EHFO', 'EHFQ', 'EHFR', 'EHFT', 'EHFZ', 'EHGG', 'EHKD', 'EHKJ', 'EHKP', 'EHKS', 'EHKU', 'EHLE', 'EHLF', 'EHLJ', 'EHLL', 'EHLT', 'EHLX', 'EHMF', 'EHMG', 'EHMR', 'EHPG', 'EHPK', 'EHPM', 'EHQH', 'EHQI', 'EHRD', 'EHSE', 'EHTE', 'EIAB', 'EICK', 'EIDL', 'EIDW', 'EIKH', 'EIKN', 'EIKY', 'EIME', 'EINN', 'EIWF', 'EIWT', 'EKAH', 'EKAR', 'EKBI', 'EKCH', 'EKDB', 'EKEB', 'EKGC', 'EKGH', 'EKHA', 'EKHD', 'EKKA', 'EKOD', 'EKRK', 'EKRN', 'EKSB', 'EKSI', 'EKTE', 'EKTS', 'EKTW', 'EKVG', 'EKVJ', 'EKYT', 'ELLX', 'ENAL', 'ENAN', 'ENAT', 'ENBE', 'ENBL', 'ENBN', 'ENBO', 'ENBR', 'ENBS', 'ENBV', 'ENCN', 'ENDU', 'ENEV', 'ENFB', 'ENFG', 'ENFL', 'ENGA', 'ENGC', 'ENGM', 'ENHD', 'ENHE', 'ENHF', 'ENHK', 'ENHM', 'ENHV', 'ENJB', 'ENKB', 'ENKJ', 'ENKR', 'ENLA', 'ENLE', 'ENLK', 'ENMH', 'ENML', 'ENMS', 'ENNA', 'ENNE', 'ENNM', 'ENNO', 'ENOA', 'ENOC', 'ENOV', 'ENQA', 'ENQB', 'ENQC', 'ENQD', 'ENQG', 'ENQJ', 'ENQK', 'ENQR', 'ENQS', 'ENQV', 'ENRA', 'ENRM', 'ENRO', 'ENRS', 'ENRY', 'ENSB', 'ENSD', 'ENSE', 'ENSF', 'ENSG', 'ENSH', 'ENSK', 'ENSL', 'ENSO', 'ENSR', 'ENSS', 'ENST', 'ENTC', 'ENTO', 'ENUA', 'ENUB', 'ENUC', 'ENUG', 'ENUK', 'ENUS', 'ENVA', 'ENVD', 'ENVF', 'ENVR', 'ENWA', 'ENWE', 'ENWS', 'ENWV', 'ENXB', 'ENXI', 'ENXN', 'ENXO', 'ENXR', 'ENXW', 'ENZV', 'EPAR', 'EPBC', 'EPBY', 'EPCE', 'EPGD', 'EPKK', 'EPKP', 'EPKS', 'EPKT', 'EPLB', 'EPLL', 'EPLS', 'EPLU', 'EPMB', 'EPML', 'EPMO', 'EPOK', 'EPPO', 'EPPW', 'EPRA', 'EPRZ', 'EPSC', 'EPSY', 'EPWA', 'EPWR', 'EPZG', 'ESCF', 'ESCM', 'ESDF', 'ESGG', 'ESGJ', 'ESGP', 'ESGT', 'ESKK', 'ESKM', 'ESKN', 'ESMK', 'ESMQ', 'ESMS', 'ESMT', 'ESMX', 'ESMY', 'ESNC', 'ESND', 'ESNG', 'ESNK', 'ESNL', 'ESNN', 'ESNO', 'ESNQ', 'ESNS', 'ESNU', 'ESNV', 'ESNX', 'ESNZ', 'ESOE', 'ESOH', 'ESOK', 'ESOW', 'ESPA', 'ESPE', 'ESQO', 'ESSA', 'ESSB', 'ESSD', 'ESSK', 'ESSL', 'ESSN', 'ESSP', 'ESST', 'ESSU', 'ESSV', 'ESTA', 'ESTL', 'ESTT', 'ESUP', 'ESUT', 'ETAR', 'ETEB', 'ETHN', 'ETMN', 'ETND', 'ETNG', 'ETNH', 'ETNL', 'ETNN', 'ETOU', 'ETSH', 'ETSI', 'ETSN', 'EVLA', 'EVRA', 'EYKA', 'EYKL', 'EYKS', 'EYPA', 'EYSA', 'EYVI', 'FACT', 'FALA', 'FAOR', 'FBMN', 'FCBB', 'FCPP', 'FEFF', 'FGSL', 'FIMP', 'FKKD', 'FKYS', 'FMCZ', 'FMEE', 'FMMI', 'FNLU', 'FOOL', 'FQMA', 'FSIA', 'FTTJ', 'FYWH', 'FZAA', 'GABS', 'GBYD', 'GCFV', 'GCGM', 'GCHI', 'GCLA', 'GCLP', 'GCRR', 'GCTS', 'GCXO', 'GEML', 'GFLL', 'GGOV', 'GLRB', 'GMAA', 'GMAD', 'GMAG', 'GMAT', 'GMFF', 'GMFK', 'GMFO', 'GMMB', 'GMME', 'GMMH', 'GMMI', 'GMML', 'GMMN', 'GMMP', 'GMMW', 'GMMX', 'GMMZ', 'GMTA', 'GMTN', 'GMTT', 'GOOY', 'GQNO', 'GQPP', 'GUCY', 'GVAC', 'GVBA', 'GVNP', 'GVSV', 'HAAB', 'HDAM', 'HEAL', 'HEBA', 'HECA', 'HEGN', 'HELX', 'HEMA', 'HESH', 'HHAS', 'HKJK', 'HKMO', 'HLLB', 'HLLM', 'HLMS', 'HRYR', 'HSSS', 'HTDA', 'HTKJ', 'HTZA', 'HUEN', 'KADW', 'KAEX', 'KAPF', 'KATL', 'KAUS', 'KBAD', 'KBDL', 'KBED', 'KBFI', 'KBGR', 'KBIF', 'KBKL', 'KBOS', 'KBWI', 'KCHA', 'KCHS', 'KCLT', 'KCRQ', 'KCVG', 'KDAL', 'KDEN', 'KDFW', 'KDLH', 'KDOV', 'KDTW', 'KEWR', 'KFLL', 'KFOK', 'KFTY', 'KGRR', 'KGSP', 'KGTF', 'KHOP', 'KHOU', 'KHPN', 'KIAD', 'KIAH', 'KIND', 'KISP', 'KJFK', 'KLAS', 'KLAX', 'KLSV', 'KLUK', 'KMCO', 'KMDW', 'KMEM', 'KMIA', 'KMMU', 'KMSP', 'KMSY', 'KNGU', 'KOAK', 'KOFF', 'KORD', 'KPAE', 'KPDX', 'KPHL', 'KPHX', 'KPIT', 'KPSM', 'KPVD', 'KRDU', 'KRSW', 'KSAN', 'KSAV', 'KSDF', 'KSDL', 'KSEA', 'KSFB', 'KSFO', 'KSJC', 'KSKA', 'KSLC', 'KSUU', 'KSVN', 'KSWF', 'KTCM', 'KTEB', 'KTPA', 'KVNY', 'KWRI', 'LATI', 'LBBG', 'LBGO', 'LBPD', 'LBSF', 'LBWN', 'LCLK', 'LCPH', 'LCRA', 'LDDU', 'LDLO', 'LDOS', 'LDPL', 'LDRI', 'LDSB', 'LDSP', 'LDVA', 'LDZA', 'LDZD', 'LDZL', 'LEAL', 'LEAM', 'LEAP', 'LEAS', 'LEBB', 'LEBL', 'LEBZ', 'LECH', 'LECO', 'LECU', 'LEDA', 'LEGE', 'LEGR', 'LEGT', 'LEIB', 'LEJR', 'LELC', 'LELL', 'LELN', 'LEMD', 'LEMG', 'LEMH', 'LEMO', 'LEPA', 'LEPP', 'LERS', 'LERT', 'LESA', 'LESB', 'LESJ', 'LESO', 'LEST', 'LETL', 'LETO', 'LEVC', 'LEVD', 'LEVT', 'LEVX', 'LEXJ', 'LEZG', 'LEZL', 'LFAC', 'LFAQ', 'LFAT', 'LFAV', 'LFAY', 'LFBA', 'LFBC', 'LFBD', 'LFBE', 'LFBF', 'LFBH', 'LFBI', 'LFBL', 'LFBM', 'LFBO', 'LFBP', 'LFBR', 'LFBT', 'LFBX', 'LFBZ', 'LFCA', 'LFCH', 'LFCK', 'LFCL', 'LFCR', 'LFCS', 'LFDB', 'LFDE', 'LFDH', 'LFDN', 'LFDX', 'LFEC', 'LFEN', 'LFEV', 'LFGA', 'LFGC', 'LFGJ', 'LFHD', 'LFHN', 'LFHO', 'LFJL', 'LFJR', 'LFKB', 'LFKC', 'LFKF', 'LFKJ', 'LFKS', 'LFLA', 'LFLB', 'LFLC', 'LFLD', 'LFLI', 'LFLL', 'LFLM', 'LFLN', 'LFLP', 'LFLQ', 'LFLS', 'LFLU', 'LFLW', 'LFLX', 'LFLY', 'LFMA', 'LFMC', 'LFMD', 'LFMH', 'LFMI', 'LFMK', 'LFML', 'LFMN', 'LFMO', 'LFMP', 'LFMQ', 'LFMT', 'LFMU', 'LFMV', 'LFMY', 'LFNF', 'LFNH', 'LFOA', 'LFOB', 'LFOE', 'LFOH', 'LFOJ', 'LFOK', 'LFOO', 'LFOP', 'LFOQ', 'LFOT', 'LFOU', 'LFOV', 'LFOZ', 'LFPB', 'LFPG', 'LFPM', 'LFPN', 'LFPO', 'LFPT', 'LFPV', 'LFQA', 'LFQB', 'LFQE', 'LFQG', 'LFQJ', 'LFQM', 'LFQQ', 'LFQT', 'LFRB', 'LFRC', 'LFRD', 'LFRE', 'LFRG', 'LFRH', 'LFRI', 'LFRJ', 'LFRK', 'LFRM', 'LFRN', 'LFRO', 'LFRQ', 'LFRS', 'LFRT', 'LFRZ', 'LFSB', 'LFSG', 'LFSL', 'LFST', 'LFSX', 'LFTH', 'LFTW', 'LFTZ', 'LFXB', 'LGAL', 'LGAV', 'LGBL', 'LGEL', 'LGHI', 'LGIK', 'LGIO', 'LGIR', 'LGKA', 'LGKC', 'LGKF', 'LGKJ', 'LGKL', 'LGKO', 'LGKP', 'LGKR', 'LGKS', 'LGKV', 'LGKY', 'LGKZ', 'LGLE', 'LGLM', 'LGMG', 'LGMK', 'LGML', 'LGMT', 'LGNX', 'LGPA', 'LGPL', 'LGPZ', 'LGRP', 'LGRX', 'LGSA', 'LGSK', 'LGSM', 'LGSO', 'LGSR', 'LGST', 'LGSY', 'LGTS', 'LGTT', 'LGZA', 'LHBP', 'LHDC', 'LHFM', 'LHPA', 'LHPP', 'LHPR', 'LHTL', 'LHUD', 'LIBD', 'LIBG', 'LIBP', 'LIBR', 'LICA', 'LICB', 'LICC', 'LICD', 'LICG', 'LICJ', 'LICR', 'LICT', 'LICZ', 'LIEA', 'LIED', 'LIEE', 'LIEO', 'LILE', 'LIMC', 'LIME', 'LIMF', 'LIMJ', 'LIML', 'LIMN', 'LIMP', 'LIMZ', 'LIPA', 'LIPB', 'LIPE', 'LIPH', 'LIPO', 'LIPQ', 'LIPR', 'LIPX', 'LIPY', 'LIPZ', 'LIQL', 'LIQS', 'LIRA', 'LIRE', 'LIRF', 'LIRI', 'LIRJ', 'LIRN', 'LIRP', 'LIRQ', 'LIRS', 'LIRV', 'LIRZ', 'LJLJ', 'LJMB', 'LJPZ', 'LKCM', 'LKCS', 'LKCV', 'LKHK', 'LKKB', 'LKKU', 'LKKV', 'LKLN', 'LKMH', 'LKMT', 'LKPD', 'LKPM', 'LKPR', 'LKTB', 'LKVO', 'LLBG', 'LLET', 'LLHA', 'LLSD', 'LMML', 'LOAN', 'LOAV', 'LOLS', 'LOWG', 'LOWI', 'LOWK', 'LOWL', 'LOWS', 'LOWW', 'LOWZ', 'LPAZ', 'LPBJ', 'LPCO', 'LPCR', 'LPCS', 'LPEV', 'LPFL', 'LPFR', 'LPGR', 'LPHR', 'LPLA', 'LPMA', 'LPPD', 'LPPI', 'LPPM', 'LPPR', 'LPPS', 'LPPT', 'LPSJ', 'LPVZ', 'LQBK', 'LQMO', 'LQSA', 'LQTZ', 'LRAR', 'LRBC', 'LRBS', 'LRCK', 'LRCL', 'LRCV', 'LRIA', 'LROD', 'LROP', 'LRSB', 'LRSM', 'LRSV', 'LRTM', 'LRTR', 'LSGC', 'LSGE', 'LSGG', 'LSGK', 'LSGL', 'LSGS', 'LSMD', 'LSME', 'LSMP', 'LSZA', 'LSZB', 'LSZC', 'LSZF', 'LSZG', 'LSZH', 'LSZL', 'LSZR', 'LTAC', 'LTAD', 'LTAF', 'LTAG', 'LTAI', 'LTAJ', 'LTAL', 'LTAN', 'LTAP', 'LTAR', 'LTAS', 'LTAT', 'LTAU', 'LTAY', 'LTBA', 'LTBH', 'LTBI', 'LTBJ', 'LTBQ', 'LTBR', 'LTBS', 'LTBU', 'LTBY', 'LTBZ', 'LTCA', 'LTCB', 'LTCC', 'LTCD', 'LTCE', 'LTCF', 'LTCG', 'LTCI', 'LTCJ', 'LTCK', 'LTCM', 'LTCN', 'LTCO', 'LTCP', 'LTCR', 'LTCS', 'LTCT', 'LTCU', 'LTCV', 'LTCW', 'LTDA', 'LTFC', 'LTFD', 'LTFE', 'LTFG', 'LTFJ', 'LUBM', 'LUKK', 'LWOH', 'LWSK', 'LXGB', 'LYBE', 'LYNI', 'LYPG', 'LYPR', 'LYTV', 'LZIB', 'LZKZ', 'LZPT', 'LZSL', 'LZTT', 'LZZI', 'MDCY', 'MDLR', 'MDPC', 'MDPP', 'MDSD', 'MHLM', 'MKJP', 'MKJS', 'MMMX', 'MMPR', 'MMUN', 'MPTO', 'MROC', 'MSLP', 'MUHA', 'MUHG', 'MUVR', 'MYGF', 'MYNN', 'OAIX', 'OAKB', 'OAMS', 'OBBI', 'OEDF', 'OEGS', 'OEJN', 'OEMA', 'OEPS', 'OERK', 'OERR', 'OERY', 'OETF', 'OIAW', 'OIBK', 'OIFM', 'OIIE', 'OIMM', 'OISS', 'OITR', 'OITT', 'OJAI', 'OJAM', 'OJAQ', 'OJMS', 'OKBK', 'OLBA', 'OMAA', 'OMAL', 'OMAM', 'OMDB', 'OMDM', 'OMDW', 'OMSJ', 'OOMS', 'OPKC', 'OPLA', 'OPRN', 'ORAA', 'ORBI', 'ORER', 'ORMM', 'ORNI', 'ORSU', 'OSDI', 'OSLK', 'OTBD', 'OTBH', 'OTHH', 'PAFA', 'RCTP', 'RJAA', 'RJBB', 'RJFF', 'RJGG', 'RJNK', 'RJTT', 'RKSI', 'RKSS', 'RPLL', 'SABE', 'SAEZ', 'SBBE', 'SBBR', 'SBCF', 'SBFZ', 'SBGL', 'SBGR', 'SBKP', 'SBPA', 'SBRF', 'SBSG', 'SBSV', 'SCEL', 'SEGU', 'SEQM', 'SGAS', 'SKBO', 'SKCG', 'SKCL', 'SKRG', 'SLVR', 'SMJP', 'SOCA', 'SPJC', 'SUMU', 'SVMI', 'TAPA', 'TBPB', 'TFFF', 'TFFR', 'TJBQ', 'TJSJ', 'TLPL', 'TNCA', 'TNCB', 'TNCC', 'TNCM', 'TXKF', 'UAAA', 'UACC', 'UAII', 'UAKK', 'UARR', 'UATE', 'UATG', 'UATT', 'UAUU', 'UBBB', 'UBBG', 'UBBL', 'UBBN', 'UBBQ', 'UCFM', 'UDSG', 'UDYE', 'UDYZ', 'UGKO', 'UGSB', 'UGTB', 'UIII', 'UKBB', 'UKDD', 'UKDE', 'UKDR', 'UKHH', 'UKKG', 'UKKK', 'UKKM', 'UKKT', 'UKLI', 'UKLL', 'UKLN', 'UKOH', 'UKOO', 'UKWW', 'ULAA', 'ULLI', 'ULMM', 'UMBB', 'UMGG', 'UMII', 'UMKK', 'UMMG', 'UMMS', 'UNBB', 'UNEE', 'UNKL', 'UNNT', 'UNOO', 'UNTT', 'UNWW', 'URKK', 'URMG', 'URMM', 'URMN', 'URMT', 'URRR', 'URSS', 'URWA', 'URWW', 'USCC', 'USCM', 'USNN', 'USPP', 'USSS', 'USTR', 'UTAA', 'UTAK', 'UTAM', 'UTDD', 'UTNU', 'UTSA', 'UTTT', 'UUBW', 'UUDD', 'UUEE', 'UUMB', 'UUMO', 'UUOB', 'UUOO', 'UUWW', 'UUYY', 'UWGG', 'UWKD', 'UWKE', 'UWOO', 'UWUU', 'UWWW', 'VAAH', 'VABB', 'VAPO', 'VCBI', 'VDPP', 'VECC', 'VGHS', 'VGSY', 'VHHH', 'VIDP', 'VNKT', 'VOBL', 'VOHS', 'VOMM', 'VRMM', 'VTBS', 'VTSP', 'VVNB', 'VVTS', 'WIII', 'WMKK', 'WSSS', 'ZBAA', 'ZBTJ', 'ZGGG', 'ZGSZ', 'ZHCC', 'ZHHH', 'ZLXY', 'ZSAM', 'ZSJN', 'ZSNB', 'ZSNJ', 'ZSPD', 'ZSQD', 'ZUCK', 'ZUUU', 'ZWWW', 'ZYHB', 'ZYTX', 'ZZZZ']\n"
     ]
    }
   ],
   "source": [
    "print(list1) # this should be the list of the ICAO codes of our airports, alphabetically ordered"
   ]
  },
  {
   "cell_type": "code",
   "execution_count": 33,
   "id": "0ef007e8-feef-4bac-8a87-32e32dac984a",
   "metadata": {},
   "outputs": [],
   "source": [
    "index1 = {}  # this is just a index dictionary, used to know when a certain ICAO code is in the ordered list.\n",
    "\n",
    "for i in range(len(list1)):\n",
    "    index1[list1[i]] = i"
   ]
  },
  {
   "cell_type": "code",
   "execution_count": 34,
   "id": "775caedd-0848-4e7d-9930-49a30ac1ecf2",
   "metadata": {},
   "outputs": [],
   "source": [
    "edges = [] # here i populate the edges list with the couples of connections\n",
    "for i in range(len(outputl)):\n",
    "    \n",
    "    if (index1[str(outputl[i][2])],index1[str(outputl[i][3])]) not in edges and (index1[str(outputl[i][2])],index1[str(outputl[i][3])]) not in edges:\n",
    "        edges.append((index1[str(outputl[i][2])],index1[str(outputl[i][3])]))\n",
    "    "
   ]
  },
  {
   "cell_type": "code",
   "execution_count": 35,
   "id": "4fe87120-9f19-4c5b-83cf-696abd1db7cb",
   "metadata": {
    "tags": []
   },
   "outputs": [
    {
     "name": "stdout",
     "output_type": "stream",
     "text": [
      "250\n"
     ]
    }
   ],
   "source": [
    "print(index1[list1[250]])"
   ]
  },
  {
   "cell_type": "code",
   "execution_count": 36,
   "id": "d1069d1c-58fe-4995-ac3a-30957950a9ad",
   "metadata": {},
   "outputs": [],
   "source": [
    "totald = {} # this is a code to calculate the total degree\n",
    "\n",
    "for i in range(len(list1)):\n",
    "    if outdegree.get(list1[i], -1) != (-1) and indegree.get(list1[i], -1) != (-1) :\n",
    "        totald[list1[i]] = indegree[list1[i]] + outdegree[list1[i]]\n",
    "    elif outdegree.get(list1[i], -1) != (-1):\n",
    "        totald[list1[i]] = outdegree[list1[i]]\n",
    "    elif indegree.get(list1[i], -1) != (-1):\n",
    "        totald[list1[i]] = indegree[list1[i]]\n",
    "    # print(outdegree[list1[i]])"
   ]
  },
  {
   "cell_type": "code",
   "execution_count": 37,
   "id": "754b106b-741c-476e-ae53-d520436a030d",
   "metadata": {
    "tags": []
   },
   "outputs": [
    {
     "name": "stdout",
     "output_type": "stream",
     "text": [
      "[('LTBA', 486), ('EHAM', 481), ('LFPG', 469), ('EDDF', 437), ('EDDM', 376), ('LEMD', 349), ('LEBL', 334), ('EGLL', 325), ('EGSS', 325), ('EGKK', 313)]\n"
     ]
    }
   ],
   "source": [
    "top = sorted(totald.items(), key=lambda x: -x[1]) # top 10 airports total degree\n",
    "print(top[0:10])"
   ]
  },
  {
   "cell_type": "code",
   "execution_count": 38,
   "id": "94d190fc-4e69-4dce-b831-8aa1b03acf54",
   "metadata": {
    "tags": []
   },
   "outputs": [
    {
     "data": {
      "image/png": "[encoded data removed]",
      "text/plain": [
       "<Figure size 1152x648 with 1 Axes>"
      ]
     },
     "metadata": {
      "needs_background": "light"
     },
     "output_type": "display_data"
    }
   ],
   "source": [
    "# Here I'll try to make a graph of the degree distribution\n",
    "# We want the degree on the x, and the number of nodes with that degree on the y\n",
    "# Or the histogram of the degree, we need x as the vector of the degree\n",
    "\n",
    "x = list(totald.values())\n",
    "bins = 50\n",
    "\n",
    "plt.figure(figsize=(16,9)) #must come BEFORE the actual plot\n",
    "plt.hist(x, bins, alpha=0.75, density=False) #Alpha is the opacity, density is the normalization\n",
    "plt.grid(True)\n",
    "plt.locator_params(nbins=20) # this is about the density of thicks on both axis I could add <, axis='x'> inside the parentesis, to do just for one axis\n",
    "plt.xlabel('Total degree')\n",
    "plt.ylabel('Log(Number of nodes)')\n",
    "plt.title('Distribution of degree ' + str(bins) + \" bins\")\n",
    "plt.yscale('log')\n",
    "plt.xscale('linear')\n",
    "plt.savefig('degree_distribution_' + str(bins) + \"bins\" + \".png\") #always save before plt.show() it should be \"namefile.png\" or \"namefile.pdf\"\n",
    "plt.show()\n"
   ]
  },
  {
   "cell_type": "code",
   "execution_count": 39,
   "id": "dda30eb2-b000-4431-9aba-233c747e109e",
   "metadata": {},
   "outputs": [],
   "source": [
    "x.sort()\n",
    "x = np.array(x)\n",
    "y = np.arange(len(x)) / float(len(x))"
   ]
  },
  {
   "cell_type": "code",
   "execution_count": 40,
   "id": "8a0dcfc6-1b1d-4c67-babe-398443627285",
   "metadata": {},
   "outputs": [
    {
     "data": {
      "image/png": "[encoded data removed]",
      "text/plain": [
       "<Figure size 1152x648 with 1 Axes>"
      ]
     },
     "metadata": {
      "needs_background": "light"
     },
     "output_type": "display_data"
    }
   ],
   "source": [
    "plt.figure(figsize=(16,9))\n",
    "plt.plot(x, y) \n",
    "plt.grid(True)\n",
    "plt.xlabel('Total degree')\n",
    "plt.ylabel('CDF')\n",
    "plt.title(\"Cumulative Distribution Function of total degree\")\n",
    "plt.yscale('linear')\n",
    "plt.xscale('linear')\n",
    "plt.savefig(\"CDF.png\")\n",
    "plt.show()"
   ]
  },
  {
   "cell_type": "code",
   "execution_count": 41,
   "id": "77db8ab2-34a6-43a9-80d1-427e89394e2c",
   "metadata": {},
   "outputs": [
    {
     "data": {
      "image/png": "[encoded data removed]",
      "text/plain": [
       "<Figure size 1152x648 with 1 Axes>"
      ]
     },
     "metadata": {
      "needs_background": "light"
     },
     "output_type": "display_data"
    }
   ],
   "source": [
    "plt.figure(figsize=(16,9))\n",
    "plt.plot(x, y) \n",
    "plt.grid(True)\n",
    "plt.xlabel('Total degree')\n",
    "plt.ylabel('CDF')\n",
    "plt.title(\"Log-Linear graph: Cumulative Distribution Function of total degree\")\n",
    "plt.yscale('log')\n",
    "plt.xscale('linear')\n",
    "plt.savefig(\"CDF_log_linear.png\")\n",
    "plt.show()"
   ]
  },
  {
   "cell_type": "code",
   "execution_count": 42,
   "id": "1b3b42ad-b2c5-4989-a60f-bf2fac79f547",
   "metadata": {},
   "outputs": [
    {
     "data": {
      "image/png": "[encoded data removed]",
      "text/plain": [
       "<Figure size 1152x648 with 1 Axes>"
      ]
     },
     "metadata": {
      "needs_background": "light"
     },
     "output_type": "display_data"
    }
   ],
   "source": [
    "plt.figure(figsize=(16,9))\n",
    "plt.plot(x, y) \n",
    "plt.grid(True)\n",
    "plt.xlabel('Total degree')\n",
    "plt.ylabel('CDF')\n",
    "plt.title(\"Log-Log graph: Cumulative Distribution Function of total degree\")\n",
    "plt.yscale('log')\n",
    "plt.xscale('log')\n",
    "plt.savefig(\"CDF_log_log.png\")\n",
    "plt.show()"
   ]
  },
  {
   "cell_type": "code",
   "execution_count": 43,
   "id": "c5683676-1ec5-4ca7-8985-c26ca69f2e14",
   "metadata": {},
   "outputs": [
    {
     "name": "stdout",
     "output_type": "stream",
     "text": [
      "['EDDF', 'EGLL', 'EHAM', 'LFPG', 'LTBA']\n"
     ]
    }
   ],
   "source": [
    "def conlist(ap):\n",
    "    templist = []\n",
    "    for i in range(len(list1)):\n",
    "        if ((index1[ap],i) in edges) or ((i,index1[ap]) in edges):\n",
    "            templist.append(list1[i])\n",
    "    return templist\n",
    "\n",
    "# this prints all nodes directly connected to a node, but it's pretty slow\n",
    "\n",
    "print(conlist(\"FACT\"))"
   ]
  },
  {
   "cell_type": "code",
   "execution_count": 44,
   "id": "5901f04d-94e7-4d08-bd7a-249c987281d8",
   "metadata": {},
   "outputs": [],
   "source": [
    "def edges_to_adjacencylist(edges): # this piece of code converts the edgelist to an adjacency list\n",
    "    dictx = {}\n",
    "    for (x,y) in edges:\n",
    "        if list1[x] not in dictx:\n",
    "            dictx[list1[x]] = [list1[y]]\n",
    "        elif list1[y] not in dictx[list1[x]]:\n",
    "            dictx[list1[x]].append(list1[y])\n",
    "            \n",
    "        if list1[y] not in dictx:\n",
    "            dictx[list1[y]] = [list1[x]]\n",
    "        elif list1[x] not in dictx[list1[y]]:\n",
    "            dictx[list1[y]].append(list1[x])\n",
    "            \n",
    "    return dictx\n",
    "        "
   ]
  },
  {
   "cell_type": "code",
   "execution_count": 45,
   "id": "a47b5ddb-0ef8-4e8c-a222-2ecb3c26d3a3",
   "metadata": {},
   "outputs": [],
   "source": [
    "adjlist = edges_to_adjacencylist(edges)"
   ]
  },
  {
   "cell_type": "code",
   "execution_count": 46,
   "id": "f7a358f1-611c-4792-adb3-e8b48b079385",
   "metadata": {},
   "outputs": [
    {
     "name": "stdout",
     "output_type": "stream",
     "text": [
      "['EGLL', 'EDDF', 'LFPG', 'LTBA', 'EHAM']\n"
     ]
    }
   ],
   "source": [
    "print (adjlist[\"FACT\"])"
   ]
  },
  {
   "cell_type": "code",
   "execution_count": 47,
   "id": "0b7966a5-6035-4d28-a411-88e5bc112f37",
   "metadata": {},
   "outputs": [],
   "source": [
    "def bfs(graph, node): #function for BFS, graph is a dictionary of the adjacency list\n",
    "    visited = [] # List for already visited nodes.\n",
    "    queue = []         # Initialize a queue, this contains the nodes whose neighbours are yet to be visited\n",
    "    connections = [] # This list, at the end, will contain all the nodes connected to the selected node\n",
    "    \n",
    "    visited.append(node)\n",
    "    queue.append(node)\n",
    "\n",
    "    while len(queue)>0:                    # Creating loop to visit each node\n",
    "        m = queue.pop(0) \n",
    "        connections.append(m)\n",
    "\n",
    "        for neighbour in graph[m]:\n",
    "            if neighbour not in visited:\n",
    "                visited.append(neighbour)\n",
    "                queue.append(neighbour)\n",
    "    \n",
    "    return connections"
   ]
  },
  {
   "cell_type": "code",
   "execution_count": 48,
   "id": "634e54e2-f784-43ec-9b9f-b10891705099",
   "metadata": {},
   "outputs": [],
   "source": [
    "connected1 = []\n",
    "alreadyconnected = set()\n",
    "connectedtemp = set()\n",
    "\n",
    "for i in database1: #TROVARE LE COMPONENTI CONNESSE\n",
    "    \n",
    "    if i in alreadyconnected:\n",
    "        continue\n",
    "    \n",
    "    connectedtemp = set()\n",
    "    connectedtemp.add(i)\n",
    "\n",
    "    for j in bfs(adjlist,i):\n",
    "        connectedtemp.add(j)\n",
    "        alreadyconnected.add(j)\n",
    "        \n",
    "    connected1.append(connectedtemp)\n",
    "# fare un fit della coda della distribuzione e vedere se si adatta meglio ad un esponenziale, ad una gaussiana o ad un POW (powerlow)"
   ]
  },
  {
   "cell_type": "code",
   "execution_count": 49,
   "id": "64bef77f-eaa3-4b67-b376-be34f182d50b",
   "metadata": {},
   "outputs": [
    {
     "name": "stdout",
     "output_type": "stream",
     "text": [
      "[{'LGSK', 'KPSM', 'LSZC', 'EGNT', 'URWW', 'ENST', 'ESNX', 'UTNU', 'UGSB', 'EGBB', 'EDLP', 'LPPR', 'ZYHB', 'EGNJ', 'LFQB', 'ENLA', 'HEAL', 'LTCE', 'EDMB', 'LKPM', 'KGSP', 'SBPA', 'EGJJ', 'LEBZ', 'LOWZ', 'KAUS', 'FMCZ', 'GCLP', 'OSDI', 'EPZG', 'EHBL', 'EDMA', 'UMMS', 'LFBF', 'EKAR', 'UTDD', 'SBGR', 'ENXO', 'LPLA', 'LGMK', 'ESNZ', 'EBBE', 'LFMT', 'URRR', 'EHGG', 'EDLS', 'LFDB', 'ENHV', 'EHLF', 'EDWE', 'EGMC', 'LGMG', 'EFPO', 'ZSAM', 'ENOC', 'LICZ', 'LFRH', 'LTAF', 'GCTS', 'ENNO', 'LKMT', 'ENXR', 'HESH', 'EGNV', 'LFMU', 'EDDH', 'LEBL', 'HECA', 'LFOP', 'UKWW', 'ENBO', 'LFRC', 'LFLP', 'ENSF', 'LOWK', 'EIDW', 'EBLG', 'UMII', 'LRTM', 'EHAM', 'LFAV', 'OPRN', 'LFRQ', 'LPMA', 'LFQG', 'EHKJ', 'ETOU', 'ENMH', 'EDPA', 'LFBL', 'ESGJ', 'LEMH', 'LIMJ', 'LOWW', 'LBPD', 'TNCM', 'LLSD', 'LFMN', 'EHLX', 'UTAA', 'EDDF', 'UUMB', 'SBCF', 'LFKB', 'EFTP', 'LGSR', 'EICK', 'LFRN', 'ENFL', 'LFCA', 'LGAL', 'LFRM', 'SABE', 'ENFG', 'LUKK', 'LSMP', 'LESA', 'EDFZ', 'OTBD', 'ENRO', 'LGML', 'KMCO', 'EGPM', 'EPKS', 'OAKB', 'LEVX', 'LFBH', 'ENFB', 'EKSI', 'FNLU', 'DABC', 'ENSG', 'EHRD', 'KBOS', 'EGNS', 'EDFC', 'LICJ', 'EDHX', 'ENRY', 'ESQO', 'LIBR', 'LTCW', 'SUMU', 'EDBK', 'ORSU', 'HEGN', 'KMSY', 'EDRZ', 'EFHF', 'LYPG', 'EHQI', 'LTAY', 'LOWG', 'LECU', 'ULMM', 'ENDU', 'LOWI', 'LFGJ', 'LFAQ', 'MDLR', 'FQMA', 'ENHE', 'ESMX', 'LSZB', 'DNPO', 'ESSL', 'GGOV', 'ENBV', 'EHKU', 'UUWW', 'SBBR', 'FKYS', 'LIBD', 'KPAE', 'ENXN', 'OERR', 'LIRF', 'LKKB', 'GMAD', 'LFPG', 'EBBR', 'LTBJ', 'URMG', 'SBKP', 'EGXW', 'USSS', 'ENRM', 'LFBP', 'LPFR', 'LIPR', 'LROD', 'LFRD', 'KCRQ', 'LRBC', 'LZZI', 'EDAD', 'HTDA', 'LTBS', 'EHFZ', 'SKCG', 'ORNI', 'EGPB', 'USNN', 'UTAM', 'VOMM', 'DAAG', 'EFRO', 'LFRO', 'LOWS', 'ETSI', 'LEJR', 'GMMP', 'DAAV', 'OMSJ', 'LEDA', 'EIWF', 'LGMT', 'ESMQ', 'SPJC', 'MUHA', 'LTAD', 'FACT', 'TXKF', 'EFOU', 'LERS', 'GMMX', 'KDFW', 'EHLE', 'LGEL', 'LIBG', 'LFOE', 'HKMO', 'RKSI', 'LFKC', 'EGMD', 'LTFE', 'EGPI', 'LFOB', 'EGAA', 'LEPA', 'DRRN', 'EGSH', 'DABB', 'EGPE', 'RKSS', 'EGKK', 'ZHHH', 'LFOO', 'ETHN', 'LTAN', 'EGLD', 'ENBN', 'KMIA', 'MYNN', 'LTAJ', 'EGCM', 'LSZG', 'LIML', 'OERY', 'DTTJ', 'EPAR', 'FYWH', 'ENQS', 'ENBR', 'LSGE', 'LKMH', 'SBGL', 'LBWN', 'LFLD', 'EGNH', 'LFPN', 'LRIA', 'ENHF', 'ESKK', 'ESPA', 'ETSN', 'ENOV', 'EKTW', 'MMMX', 'KBWI', 'OAMS', 'UUEE', 'KJFK', 'LGKS', 'EPKP', 'HTZA', 'EDWI', 'ENKJ', 'EDLE', 'ENQG', 'KEWR', 'OEMA', 'FIMP', 'LQSA', 'EDMS', 'EIDL', 'LIRI', 'LGLM', 'LSZR', 'USCM', 'EGHH', 'EGNR', 'FCBB', 'ESSN', 'EDQT', 'VABB', 'LTBY', 'KCLT', 'EPPW', 'UKLN', 'GVSV', 'EFKK', 'FOOL', 'EPML', 'LGKP', 'LTBA', 'ESKM', 'ESTA', 'MUVR', 'KFLL', 'OIFM', 'TBPB', 'LGIR', 'KSDL', 'USTR', 'EDMV', 'LTBQ', 'KTCM', 'LSME', 'LICG', 'MUHG', 'EFIV', 'ESNN', 'OTBH', 'ENKB', 'LPPT', 'CYTR', 'KMMU', 'LFTZ', 'EDFE', 'ENTC', 'EHKS', 'LICD', 'EDDB', 'LTAL', 'MSLP', 'EFKE', 'LIME', 'LETO', 'EGFF', 'LIMZ', 'LLBG', 'LPPS', 'EGOV', 'EPMO', 'UKHH', 'EFKS', 'EGBW', 'KBDL', 'LFOA', 'SAEZ', 'LFBD', 'LFPM', 'ESNQ', 'LHUD', 'GVAC', 'LFXB', 'VVTS', 'HKJK', 'LFKJ', 'LTCJ', 'KADW', 'EGAE', 'LOLS', 'EDKB', 'USCC', 'EDAV', 'BIKF', 'LFTW', 'LFRJ', 'RJFF', 'EGPR', 'SOCA', 'EPLL', 'LFBX', 'LYPR', 'KSFO', 'UWGG', 'OJAI', 'EDLN', 'LFRE', 'ESOK', 'LEPP', 'CYVR', 'TAPA', 'LGST', 'LSZH', 'EPKK', 'ENGM', 'KMEM', 'EHKP', 'WSSS', 'TJSJ', 'LSZL', 'LFMO', 'DAUZ', 'ESSA', 'LGRP', 'KSVN', 'OIMM', 'EGAB', 'KHOU', 'EGKB', 'LGSY', 'EFSI', 'LIPZ', 'LFBR', 'UKDR', 'OBBI', 'LPEV', 'LFQQ', 'EDVM', 'LEST', 'SBRF', 'ULAA', 'LFBE', 'LZKZ', 'EHPG', 'EIKN', 'KLUK', 'ESCM', 'ENNA', 'EEKE', 'KSWF', 'EKHA', 'ETNH', 'LSGG', 'ENVA', 'LFDN', 'EKTS', 'MKJP', 'EVRA', 'EDWQ', 'ENEV', 'EBCV', 'ZYTX', 'ENZV', 'LTCC', 'SKRG', 'LTAC', 'GBYD', 'LTCB', 'EHFQ', 'UTAK', 'KLSV', 'EFKT', 'LTBZ', 'EGPK', 'ESMT', 'LZTT', 'EFSA', 'EDTG', 'KPVD', 'LGKZ', 'UWUU', 'KBIF', 'DXXX', 'LTAG', 'EEKA', 'LFLI', 'MPTO', 'EHMF', 'ENML', 'UUOO', 'EDML', 'LPPD', 'VDPP', 'LFAY', 'DGAA', 'LEMD', 'ESMY', 'ENUA', 'ENSE', 'KAEX', 'UKOO', 'EGYD', 'LGTT', 'LKPR', 'ZSNJ', 'KDAL', 'LICT', 'EDQA', 'TFFR', 'ESNO', 'KSFB', 'LRCL', 'LPCS', 'LFSG', 'LFML', 'LCPH', 'LDSB', 'LTCU', 'GCFV', 'UKLL', 'LTAP', 'LESB', 'DFFD', 'EFMA', 'LKHK', 'RJGG', 'OOMS', 'ENWE', 'EDVZ', 'EGSU', 'LSGK', 'LFRT', 'UUYY', 'LGBL', 'ENQV', 'LFPO', 'OJAM', 'MDSD', 'EDWF', 'ESGP', 'LHPP', 'LPHR', 'EDFM', 'ENSH', 'ENQC', 'UUBW', 'LFCR', 'LFCS', 'EDGE', 'ENCN', 'EGPH', 'BGSF', 'LEAL', 'EDXO', 'EGNL', 'EDDE', 'ENQJ', 'LTCG', 'EKAH', 'LIRZ', 'LTCR', 'ESSP', 'EGPU', 'EDVK', 'LFEV', 'LTAU', 'GVNP', 'EHBD', 'HHAS', 'ENAL', 'LFRI', 'EGGD', 'LIEE', 'EBAW', 'UKKG', 'LDVA', 'UUOB', 'ENVR', 'LGHI', 'ETNN', 'LFDH', 'LIED', 'VGHS', 'LGSA', 'LGZA', 'ESNU', 'LGKV', 'LFOU', 'EYKA', 'EDLT', 'EHFO', 'CYYZ', 'EDOP', 'LGKL', 'KGTF', 'LIPQ', 'LEGE', 'LEZG', 'LGSO', 'EDXW', 'KDTW', 'LIQL', 'EDTL', 'LEGT', 'LESO', 'ESUT', 'LPSJ', 'ENBE', 'UUMO', 'EGSC', 'LWSK', 'LRBS', 'CYJT', 'TNCA', 'DAUA', 'LRAR', 'LFLB', 'URMN', 'LGKC', 'LOAN', 'SKBO', 'EDAQ', 'EGPL', 'FEFF', 'EGUN', 'KDLH', 'LSGC', 'EGGW', 'EBKT', 'CYYT', 'KLAX', 'UAAA', 'EGPA', 'ESGG', 'EDDW', 'EGBN', 'LIPB', 'LTCT', 'LKCM', 'EGET', 'LGLE', 'EVLA', 'EFJY', 'EDBN', 'ZLXY', 'LFGA', 'LKLN', 'MMUN', 'LESJ', 'ZGSZ', 'EHFR', 'EPLS', 'LFDE', 'GVBA', 'EFKI', 'GCLA', 'ESNS', 'LGKA', 'LFEC', 'KFOK', 'LEIB', 'EPPO', 'EDDT', 'DTTA', 'LFBC', 'EGHF', 'LFKF', 'FSIA', 'SBSG', 'EGCN', 'EYSA', 'EGCW', 'EDQH', 'FMMI', 'UARR', 'LGNX', 'VGSY', 'EGAD', 'KSAN', 'KVNY', 'LRTR', 'ENUB', 'LTCF', 'EPOK', 'KMSP', 'EDAH', 'ENWV', 'ENWA', 'UUDD', 'GMMN', 'LFDX', 'LPCR', 'ESMK', 'LDDU', 'EHQH', 'LWOH', 'ENQR', 'EYVI', 'GMTT', 'UBBN', 'KORD', 'LFLX', 'SBBE', 'LFLY', 'LCRA', 'EDDL', 'GCHI', 'LSZF', 'OEJN', 'EKSB', 'EKGH', 'GMMH', 'EGBJ', 'LOAV', 'LDZL', 'UNTT', 'FKKD', 'EHMG', 'EIME', 'VVNB', 'LFLC', 'KPHX', 'EKRK', 'EHTE', 'KIND', 'LFOT', 'LFJR', 'ESMS', 'LIQS', 'KSKA', 'LILE', 'LFAC', 'KLAS', 'LFRB', 'LECH', 'ENQA', 'EGQS', 'KDOV', 'ENAT', 'VAAH', 'LFLM', 'TFFF', 'TNCB', 'ORER', 'LFPB', 'LIRV', 'UKLI', 'LELN', 'LEBB', 'KPHL', 'SGAS', 'ZSPD', 'USPP', 'EGTR', 'LIRJ', 'EDFQ', 'LTAT', 'OITR', 'DNMM', 'LFMH', 'OKBK', 'OITT', 'UATG', 'URKK', 'ENHK', 'GMAT', 'VECC', 'EGEC', 'UBBL', 'EKDB', 'VOBL', 'KPDX', 'LLHA', 'LFMI', 'LEVD', 'EGNE', 'ENUK', 'OIBK', 'LFLQ', 'EDDP', 'LTFJ', 'LFQT', 'LIPO', 'LSGL', 'CYPQ', 'KSAV', 'ELLX', 'EPLB', 'EPRZ', 'RPLL', 'CYBG', 'CYHZ', 'ESGT', 'LERT', 'UNWW', 'LFBM', 'OMDW', 'CYUL', 'LEAM', 'LDSP', 'ZWWW', 'DAOF', 'VTBS', 'LATI', 'BKPR', 'LFOH', 'GQPP', 'LPGR', 'KNGU', 'EHBK', 'OJAQ', 'EDHK', 'EDXR', 'EDRY', 'EDLA', 'HLLB', 'EINN', 'EKEB', 'LJPZ', 'ENGA', 'LXGB', 'ENSO', 'KAPF', 'EPGD', 'EGWU', 'EGHQ', 'ESDF', 'UKOH', 'LICC', 'LTBR', 'EPWR', 'FZAA', 'EGBP', 'EFJO', 'LFLA', 'LFRK', 'ZUCK', 'EBOS', 'UAKK', 'EDNY', 'LGPL', 'EDHL', 'HUEN', 'ESCF', 'OEPS', 'LIMC', 'LGPZ', 'LFMK', 'ENKR', 'TNCC', 'EGHL', 'LTBU', 'LFOV', 'SCEL', 'CYQX', 'LKTB', 'URSS', 'UGTB', 'LTCS', 'LHFM', 'HLLM', 'UATE', 'LEZL', 'HAAB', 'LIMP', 'UNNT', 'ENVD', 'LFNH', 'LFRG', 'EDHI', 'GCGM', 'EDRA', 'CYYR', 'EKVG', 'GMFO', 'EGPF', 'HTKJ', 'LRCV', 'UGKO', 'ENQD', 'EHLJ', 'KBGR', 'EDLI', 'FMEE', 'OAIX', 'ZBAA', 'OEDF', 'UAUU', 'DIAP', 'LJLJ', 'ZUUU', 'LEXJ', 'LGRX', 'LZIB', 'LIMN', 'EGXC', 'DAAS', 'EGLL', 'EHMR', 'LGIK', 'ENRA', 'EKKA', 'DAUG', 'KHOP', 'KRDU', 'OMDB', 'KIAH', 'LIEO', 'UNBB', 'EPLU', 'EPWA', 'ENHD', 'GMMW', 'LFOZ', 'ESKN', 'ESND', 'UKBB', 'ZZZZ', 'LFBT', 'ORMM', 'KATL', 'LFJL', 'LHPR', 'ESST', 'ENNE', 'LDOS', 'OETF', 'LGKJ', 'VIDP', 'OPKC', 'ENXI', 'EIAB', 'ESSV', 'LFMP', 'EKBI', 'UKDD', 'EDFL', 'GMMB', 'GUCY', 'EGAC', 'EDDC', 'ETNL', 'GFLL', 'LPAZ', 'GMTN', 'LFQM', 'EPBC', 'LFOK', 'ENUG', 'ESNK', 'OMAA', 'KSEA', 'OMDM', 'EPCE', 'LFHO', 'EHLL', 'ESPE', 'EDDV', 'LEGR', 'EDLB', 'LGSM', 'UBBB', 'LTCP', 'LTCV', 'LTCD', 'LTCM', 'SBSV', 'OEGS', 'EBKH', 'EFKU', 'LGAV', 'EPRA', 'ENSK', 'EHPM', 'EDSB', 'KPIT', 'ESNG', 'EPMB', 'ENHM', 'LFMC', 'KDEN', 'ENXW', 'OTHH', 'LGKY', 'ENGC', 'MMPR', 'LFMQ', 'ENNM', 'LTAR', 'UKKK', 'GCXO', 'KSJC', 'KTEB', 'LGKF', 'MHLM', 'ENSR', 'LFAT', 'EHPK', 'OLBA', 'ZBTJ', 'ESUP', 'LGKO', 'LIPA', 'OSLK', 'ETAR', 'EKYT', 'LFBA', 'OMAM', 'EGTF', 'KFTY', 'LECO', 'EDTY', 'LPPI', 'EETU', 'LIEA', 'KRSW', 'LIPH', 'VAPO', 'LEMO', 'ESSB', 'KBED', 'SBFZ', 'GMML', 'UNOO', 'ENQB', 'URMM', 'LEVT', 'EGNC', 'LIPE', 'LTCK', 'ENRS', 'FAOR', 'EHKD', 'LKKU', 'EBMB', 'UAII', 'LFMD', 'EHFT', 'LQTZ', 'MKJS', 'LYTV', 'LHBP', 'DAON', 'LTFG', 'EGTC', 'GEML', 'MDPP', 'OISS', 'LELL', 'GMFK', 'EKHD', 'ESSD', 'LRSM', 'KBKL', 'EDDG', 'EGNO', 'URWA', 'ENBL', 'LDRI', 'ZSNB', 'EFHK', 'UNEE', 'MDCY', 'LOWL', 'EYKS', 'ENSS', 'DBBB', 'DAAQ', 'EPSC', 'LFGC', 'LTBI', 'KSUU', 'VTSP', 'EGSX', 'FTTJ', 'ULLI', 'ETND', 'GMTA', 'VNKT', 'EDDN', 'LFRZ', 'EGTK', 'ESOW', 'EGBK', 'ZSJN', 'EDSZ', 'EGLF', 'KWRI', 'KHPN', 'LIRA', 'LDPL', 'EHLT', 'UBBG', 'HEBA', 'GMFF', 'EDLD', 'EDTM', 'EGPN', 'ZHCC', 'EGNX', 'LFLN', 'LDZD', 'ENXB', 'GMAA', 'EETN', 'LEVC', 'LFBI', 'UNKL', 'LTFC', 'GQNO', 'MDPC', 'LJMB', 'EDQG', 'ETNG', 'UWWW', 'LBSF', 'GOOY', 'EGVN', 'EDDR', 'LFBZ', 'LFKS', 'EGNM', 'LFRS', 'EDVE', 'EFVA', 'KSDF', 'CYOW', 'ENUC', 'CYYC', 'ENUS', 'EDTD', 'EDMY', 'BGMV', 'ENOA', 'LEAP', 'EGSG', 'LHPA', 'LSZA', 'LIRN', 'LFPV', 'KTPA', 'FALA', 'HELX', 'EDFR', 'LROP', 'UDYE', 'EDGS', 'OJMS', 'GCRR', 'RJNK', 'EDLV', 'EDHE', 'LCLK', 'EPKT', 'LTDA', 'LFEN', 'LZPT', 'LLET', 'EDDM', 'RJBB', 'DNAA', 'LFSL', 'EGJA', 'BIRK', 'ESOE', 'LTCO', 'ORBI', 'EDRK', 'GABS', 'OMAL', 'EGGP', 'WIII', 'RJTT', 'VCBI', 'LIPX', 'EKGC', 'HSSS', 'EGLC', 'FCPP', 'UMKK', 'LGIO', 'UMBB', 'EKVJ', 'EDFB', 'EIKH', 'CYEG', 'LDZA', 'LKCV', 'KCVG', 'EDOY', 'LYNI', 'LGPA', 'ESNV', 'EDDK', 'LICR', 'FBMN', 'DAUH', 'GMMI', 'LFHN', 'ENSB', 'LPPM', 'DTMB', 'WMKK', 'LFTH', 'SMJP', 'ENVF', 'EDDS', 'EDRT', 'ENJB', 'HRYR', 'SEGU', 'KBFI', 'FGSL', 'LFSB', 'ESOH', 'EDTF', 'UWKE', 'RCTP', 'ESNL', 'KIAD', 'LZSL', 'LKKV', 'UKDE', 'OPLA', 'SEQM', 'EGJB', 'UACC', 'UATT', 'LFLS', 'ENMS', 'KCHA', 'EDBM', 'LICA', 'LQMO', 'LTCN', 'LIRE', 'TLPL', 'LPVZ', 'EBCI', 'KOFF', 'LIRS', 'EDAZ', 'LICB', 'EPSY', 'LFMA', 'UBBQ', 'UDSG', 'DTNH', 'ENLE', 'LDLO', 'ENSD', 'GMAG', 'LBGO', 'EDQM', 'EGPD', 'EGTE', 'ORAA', 'LFLL', 'LQBK', 'EDLM', 'LKVO', 'LIPY', 'LFLU', 'RJAA', 'ETMN', 'HEMA', 'LFCK', 'LTCI', 'ESSK', 'LGTS', 'LHTL', 'EDJA', 'EGLK', 'LFOQ', 'EGHI', 'EDFU', 'SLVR', 'ETSH', 'LGKR', 'KMDW', 'EPBY', 'EYPA', 'LIMF', 'LYBE', 'ENTO', 'VOHS', 'EHFE', 'MROC', 'KGRR', 'KISP', 'LFSX', 'DAAE', 'EGKA', 'LPFL', 'LFBO', 'ENBS', 'EDMO', 'TJBQ', 'EIKY', 'LFMV', 'UTSA', 'LTAI', 'VRMM', 'UMGG', 'EFTU', 'LFMY', 'ENLK', 'LSMD', 'EGCC', 'ENWS', 'MYGF', 'SKCL', 'LHDC', 'LRCK', 'UWKD', 'EDLW', 'UIII', 'LFOJ', 'UCFM', 'EGSS', 'LRSV', 'LBBG', 'URMT', 'EHEH', 'SVMI', 'LFPT', 'PAFA', 'ENAN', 'EGPC', 'EKRN', 'LIBP', 'LMML', 'ENSL', 'EDAC', 'OIIE', 'LSGS', 'KCHS', 'GLRB', 'LEMG', 'LIRP', 'EKTE', 'HDAM', 'LTCA', 'LTAS', 'LEAS', 'EDVY', 'ENQK', 'LTFD', 'KOAK', 'LIRQ', 'OERK', 'LRSB', 'ZSQD', 'EKCH', 'ZGGG', 'ETEB', 'LELC', 'UDYZ', 'HLMS', 'GMMZ', 'EDFH', 'LFLW', 'VHHH', 'LTBH', 'EGPO', 'DAOO', 'LKPD', 'GMME', 'LFCL', 'EIWT', 'UMMG', 'OIAW', 'UWOO', 'KSLC', 'LFST', 'EDHA', 'UTTT'}, {'KBAD', 'EGVA'}, {'LKCS', 'EHSE'}, {'LFQA', 'LFQE'}, {'EDEN', 'EYKL'}, {'UKKM', 'LUBM', 'UKKT'}, {'ESNC', 'ESSU'}, {'ESTL', 'EKOD'}, {'ESTT', 'EDCG'}, {'LFNF', 'LFQJ'}, {'LPBJ', 'LETL'}, {'LFCH', 'LPCO'}, {'EDTW', 'EDFV'}, {'LFHD', 'EDAY'}]\n"
     ]
    }
   ],
   "source": [
    "print (connected1)"
   ]
  },
  {
   "cell_type": "code",
   "execution_count": 50,
   "id": "b77d2e46-46bb-438c-a4ec-65e9bd44a9f1",
   "metadata": {},
   "outputs": [
    {
     "name": "stdout",
     "output_type": "stream",
     "text": [
      "14\n"
     ]
    }
   ],
   "source": [
    "print(len(connected1))"
   ]
  },
  {
   "cell_type": "code",
   "execution_count": 61,
   "id": "b7c9fd1e-1dd7-464f-9b47-7735a6539ac2",
   "metadata": {},
   "outputs": [],
   "source": [
    "degreedict0 = {}\n",
    "\n",
    "for key in adjlist:\n",
    "    val = adjlist[key]\n",
    "    degreedict0[key] = len(val)"
   ]
  },
  {
   "cell_type": "raw",
   "id": "5fa93a93-7dd0-466a-b375-a2f51ce90e5a",
   "metadata": {},
   "source": [
    "print(degreedict0)"
   ]
  },
  {
   "cell_type": "markdown",
   "id": "1a03adec-357e-4801-af1c-d16cf1e194ac",
   "metadata": {},
   "source": [
    "### In the next cell we do a bit of statistic"
   ]
  },
  {
   "cell_type": "code",
   "execution_count": 73,
   "id": "e0eef587-f041-479d-9e41-a0a78ab44860",
   "metadata": {},
   "outputs": [
    {
     "name": "stdout",
     "output_type": "stream",
     "text": [
      "The average value of degree is: 14.053314121037465\n",
      "The standard deviation of average degree is: 29.63152741541503\n"
     ]
    }
   ],
   "source": [
    "import numpy as np\n",
    "\n",
    "degreelist1 = []\n",
    "for key in degreedict0:\n",
    "    val = degreedict0[key]\n",
    "    degreelist1.append(val)\n",
    "    \n",
    "degreearray = np.array(degreelist1)\n",
    "aver = np.mean(degreearray)\n",
    "std = np.std(degreearray)\n",
    "print(\"The average value of degree is: {}\".format(aver))\n",
    "print(\"The standard deviation of average degree is: {}\".format(std))"
   ]
  },
  {
   "cell_type": "code",
   "execution_count": 52,
   "id": "34e6ccae-56ad-4942-a963-4054bfe6a3f6",
   "metadata": {},
   "outputs": [],
   "source": [
    "degreedict2 = {}\n",
    "default = -1\n",
    "for key in adjlist:\n",
    "    val = adjlist[key]\n",
    "    degree = str(len(val))\n",
    "    if degreedict2.get(degree,default) == -1: #if the key entry is not there, we set it\n",
    "        degreedict2[degree] = [key]\n",
    "    else:\n",
    "        degreedict2[degree].append(key) #if the key entry is present, we append another airport"
   ]
  },
  {
   "cell_type": "raw",
   "id": "6ee7021f-b323-4c10-a86a-ad7c0106a9f1",
   "metadata": {},
   "source": [
    "print(degreedict2)"
   ]
  },
  {
   "cell_type": "code",
   "execution_count": 53,
   "id": "081999ae-80b1-4896-9102-4023817aa009",
   "metadata": {},
   "outputs": [],
   "source": [
    "assortativity = {}\n",
    "\n",
    "\n",
    "for key in degreedict2:\n",
    "    val = degreedict2[key]\n",
    "    Nk = len(val)\n",
    "    sum1 = 0\n",
    "    for airport in val:\n",
    "        knn = 0\n",
    "        for neigh in adjlist[airport]:         \n",
    "            knn += degreedict0[neigh]\n",
    "        knn /= degreedict0[airport]\n",
    "        sum1 += knn\n",
    "    assortativity[key] = sum1/Nk\n"
   ]
  },
  {
   "cell_type": "code",
   "execution_count": 54,
   "id": "7c9590be-89bd-4c74-8b98-d013ed72e537",
   "metadata": {},
   "outputs": [
    {
     "name": "stdout",
     "output_type": "stream",
     "text": [
      "78.46618357487922\n"
     ]
    }
   ],
   "source": [
    "print(assortativity[\"2\"])"
   ]
  },
  {
   "cell_type": "code",
   "execution_count": 55,
   "id": "a7992a13-1b4a-4bdc-9cef-5c4f5f84d000",
   "metadata": {},
   "outputs": [],
   "source": [
    "plt.style.use(['science', \"notebook\",'grid'])\n",
    "plt.style.use('default')"
   ]
  },
  {
   "cell_type": "code",
   "execution_count": 56,
   "id": "0f8c6366-eb46-4be9-b81b-ef8aca59a0ba",
   "metadata": {},
   "outputs": [
    {
     "data": {
      "image/png": "[encoded data removed]",
      "text/plain": [
       "<Figure size 1600x900 with 1 Axes>"
      ]
     },
     "metadata": {},
     "output_type": "display_data"
    }
   ],
   "source": [
    "x = []\n",
    "for key in assortativity:\n",
    "    x.append(int(key))\n",
    "x.sort()\n",
    "\n",
    "y = []\n",
    "for i in x:\n",
    "    y.append(assortativity[str(i)])\n",
    "\n",
    "plt.figure(figsize=(16,9))\n",
    "plt.plot(x, y, \"ro\") \n",
    "plt.grid(True)\n",
    "plt.xlabel('Total degree')\n",
    "plt.ylabel('LOG: Assortativity of degree')\n",
    "plt.title(\"Assortativity\")\n",
    "plt.yscale('log')\n",
    "plt.xscale('linear')\n",
    "plt.savefig(\"assortativity.png\")\n",
    "plt.show()"
   ]
  },
  {
   "cell_type": "code",
   "execution_count": null,
   "id": "a657c8a6-8f59-4f58-aa33-5cec14a3c3cb",
   "metadata": {},
   "outputs": [],
   "source": []
  },
  {
   "cell_type": "raw",
   "id": "ddcdaeb9-3928-420f-80f0-384680ec3378",
   "metadata": {
    "tags": []
   },
   "source": [
    "g = ig.Graph(nnodes, edges)\n",
    "g[\"title\"] = \"Airports network\"\n",
    "g.vs[\"name\"] = list1"
   ]
  },
  {
   "cell_type": "raw",
   "id": "5e2ab15e-f767-42de-b454-c9d7843bf2e5",
   "metadata": {},
   "source": [
    "fig, ax = plt.subplots(figsize=(50,50)) # I don't know why, but this image sucks\n",
    "ig.plot(\n",
    "    g,\n",
    "    target=ax,\n",
    "    layout=\"circle\", \n",
    "    vertex_size=0.003,\n",
    "    vertex_color=\"salmon\",\n",
    "    vertex_frame_color=\"white\",\n",
    "    vertex_label=g.vs[\"name\"],\n",
    "    vertex_label_size=8.0,\n",
    "    edge_width=0.5,\n",
    "    edge_color=\"#7142cf\"\n",
    ")\n",
    "\n",
    "plt.show()"
   ]
  },
  {
   "cell_type": "raw",
   "id": "9373c43c-e2ac-441f-b667-f876591fc5ee",
   "metadata": {},
   "source": [
    "fig.savefig('airports_network.png')"
   ]
  }
 ],
 "metadata": {
  "kernelspec": {
   "display_name": "Python 3 (ipykernel)",
   "language": "python",
   "name": "python3"
  },
  "language_info": {
   "codemirror_mode": {
    "name": "ipython",
    "version": 3
   },
   "file_extension": ".py",
   "mimetype": "text/x-python",
   "name": "python",
   "nbconvert_exporter": "python",
   "pygments_lexer": "ipython3",
   "version": "3.10.6"
  }
 },
 "nbformat": 4,
 "nbformat_minor": 5
}
