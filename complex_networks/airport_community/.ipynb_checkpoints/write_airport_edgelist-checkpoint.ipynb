{
 "cells": [
  {
   "cell_type": "code",
   "execution_count": 48,
   "id": "8e8bceaa-d00a-4ae0-810f-59981ecdcd94",
   "metadata": {},
   "outputs": [],
   "source": [
    "import numpy as np\n",
    "import igraph as ig"
   ]
  },
  {
   "cell_type": "code",
   "execution_count": 49,
   "id": "bf38c7c2-9d6b-4389-b40c-94c819125035",
   "metadata": {},
   "outputs": [],
   "source": [
    "file = open(\"20170901_m1.so6\") # we open the file to read every line and then we close it\n",
    "data = file.readlines()\n",
    "file.close()"
   ]
  },
  {
   "cell_type": "code",
   "execution_count": 50,
   "id": "dda76a35-6b78-480c-800f-d0a6eed44070",
   "metadata": {},
   "outputs": [
    {
     "name": "stdout",
     "output_type": "stream",
     "text": [
      "!DATM_!DATN ZZZZ ZZZZ S92 113000 113456 10 10 2 BHL208 170901 170901 3382.000000 196.000000 3393.000000 194.000000 210660401 1 11.055370 0\n",
      "\n"
     ]
    }
   ],
   "source": [
    "print(data[0])"
   ]
  },
  {
   "cell_type": "code",
   "execution_count": 51,
   "id": "5c6d9efa-05c7-492c-805a-f217e1408aa2",
   "metadata": {},
   "outputs": [],
   "source": [
    "datalist = [0] * len(data)"
   ]
  },
  {
   "cell_type": "code",
   "execution_count": 52,
   "id": "e39f68b9-3182-469f-b76a-154e80b56a15",
   "metadata": {},
   "outputs": [],
   "source": [
    "for i in range (len(data)):\n",
    "    data[i] = data[i].replace(\"_\",\" \")\n",
    "    datalist[i] = data[i].split(\" \")\n",
    "del data"
   ]
  },
  {
   "cell_type": "code",
   "execution_count": 53,
   "id": "c1ea83e1-8830-4306-9304-40f889cb4b42",
   "metadata": {},
   "outputs": [
    {
     "name": "stdout",
     "output_type": "stream",
     "text": [
      "1751823\n"
     ]
    }
   ],
   "source": [
    "print(len(datalist))"
   ]
  },
  {
   "cell_type": "code",
   "execution_count": 54,
   "id": "a176aafe-be07-45a9-966a-032aa792264d",
   "metadata": {},
   "outputs": [
    {
     "name": "stdout",
     "output_type": "stream",
     "text": [
      "['!DATM', '!DATN', 'ZZZZ', 'ZZZZ', 'S92', '113000', '113456', '10', '10', '2', 'BHL208', '170901', '170901', '3382.000000', '196.000000', '3393.000000', '194.000000', '210660401', '1', '11.055370', '0\\n']\n"
     ]
    }
   ],
   "source": [
    "print(datalist[0])"
   ]
  },
  {
   "cell_type": "code",
   "execution_count": 55,
   "id": "65056945-44a1-49a8-a3b2-e435d0b45def",
   "metadata": {},
   "outputs": [],
   "source": [
    "edgelist = []"
   ]
  },
  {
   "cell_type": "code",
   "execution_count": 56,
   "id": "3516b2f6-d8f7-4c16-a9ef-6a6c6ea3097e",
   "metadata": {},
   "outputs": [],
   "source": [
    "for i in range (len(datalist)):\n",
    "    #print(\"1\")\n",
    "    if (datalist[i][18] == \"1\") and (datalist[i][2] != datalist[i][3]) and (datalist[i][0] == datalist[i][2]):\n",
    "        tup = ((datalist[i][2], datalist[i][3]))\n",
    "        edgelist.append(tup)"
   ]
  },
  {
   "cell_type": "code",
   "execution_count": 57,
   "id": "0d0b648c-a83a-4afb-8c7c-ed9be716b46b",
   "metadata": {},
   "outputs": [
    {
     "data": {
      "text/plain": [
       "36522"
      ]
     },
     "execution_count": 57,
     "metadata": {},
     "output_type": "execute_result"
    }
   ],
   "source": [
    "len(edgelist)"
   ]
  },
  {
   "cell_type": "markdown",
   "id": "7823c9f4-704f-47ed-a439-131c1f3eac4f",
   "metadata": {},
   "source": [
    "## Qua rimuoviamo self-loop e multilinks"
   ]
  },
  {
   "cell_type": "code",
   "execution_count": 58,
   "id": "03f8c4fb-7931-422d-8f7d-cc0a3cd91715",
   "metadata": {},
   "outputs": [],
   "source": [
    "edgelisttemp = []"
   ]
  },
  {
   "cell_type": "code",
   "execution_count": 59,
   "id": "5fac38bf-f0d6-4bf5-966b-4a887ee7f0a4",
   "metadata": {},
   "outputs": [],
   "source": [
    "for u,v in edgelist:\n",
    "    if u == v:\n",
    "        continue\n",
    "    \n",
    "    if (u,v) not in edgelisttemp and (v,u) not in edgelisttemp:\n",
    "            edgelisttemp.append((u,v))"
   ]
  },
  {
   "cell_type": "code",
   "execution_count": 60,
   "id": "e8f28fa7-11b5-49b2-8e65-0dde0c33ccdd",
   "metadata": {},
   "outputs": [
    {
     "data": {
      "text/plain": [
       "9753"
      ]
     },
     "execution_count": 60,
     "metadata": {},
     "output_type": "execute_result"
    }
   ],
   "source": [
    "len(edgelisttemp)"
   ]
  },
  {
   "cell_type": "code",
   "execution_count": 62,
   "id": "721189c6-5802-4c50-95d0-f027894eda45",
   "metadata": {},
   "outputs": [],
   "source": [
    "edgelist = edgelisttemp"
   ]
  },
  {
   "cell_type": "markdown",
   "id": "c661b49c-0e2e-4ec9-85cc-5d87c87144d1",
   "metadata": {},
   "source": [
    "# Scriviamo su file"
   ]
  },
  {
   "cell_type": "code",
   "execution_count": 66,
   "id": "e150fefc-65ef-40b6-bdb6-c818c01d9861",
   "metadata": {},
   "outputs": [],
   "source": [
    "filename = \"airport_original_edgelist.txt\"\n",
    "\n",
    "with open(filename, 'w') as f:\n",
    "    for u,v in edgelist:\n",
    "        f.write(str(u) + \" \" + str(v) + \"\\n\")"
   ]
  }
 ],
 "metadata": {
  "kernelspec": {
   "display_name": "Python 3 (ipykernel)",
   "language": "python",
   "name": "python3"
  },
  "language_info": {
   "codemirror_mode": {
    "name": "ipython",
    "version": 3
   },
   "file_extension": ".py",
   "mimetype": "text/x-python",
   "name": "python",
   "nbconvert_exporter": "python",
   "pygments_lexer": "ipython3",
   "version": "3.10.6"
  }
 },
 "nbformat": 4,
 "nbformat_minor": 5
}
