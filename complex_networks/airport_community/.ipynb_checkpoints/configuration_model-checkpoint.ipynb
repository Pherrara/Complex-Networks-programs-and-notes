{
 "cells": [
  {
   "cell_type": "code",
   "execution_count": 190,
   "id": "a3b6933d-efcc-4b8e-a361-7fa20a8452fe",
   "metadata": {},
   "outputs": [],
   "source": [
    "import numpy as np\n",
    "import igraph as ig\n",
    "import random\n",
    "import matplotlib.pyplot as plt"
   ]
  },
  {
   "cell_type": "code",
   "execution_count": 191,
   "id": "550e1681-2f95-4b2e-bfec-3b6674ad4cb4",
   "metadata": {},
   "outputs": [],
   "source": [
    "file = open(\"airport_original_edgelist.txt\") # we open the file to read every line and then we close it\n",
    "data = file.readlines()\n",
    "file.close()"
   ]
  },
  {
   "cell_type": "code",
   "execution_count": 192,
   "id": "1869ab9d-2fc1-4151-8c8b-d4413ab51ec7",
   "metadata": {},
   "outputs": [
    {
     "data": {
      "text/plain": [
       "'EDDF EGLL\\n'"
      ]
     },
     "execution_count": 192,
     "metadata": {},
     "output_type": "execute_result"
    }
   ],
   "source": [
    "data[0]"
   ]
  },
  {
   "cell_type": "code",
   "execution_count": 193,
   "id": "06a1e2d6-cac8-4de8-961f-a9190b6654e2",
   "metadata": {},
   "outputs": [],
   "source": [
    "for i in range(len(data)):\n",
    "    data[i] = data[i].split(\" \")"
   ]
  },
  {
   "cell_type": "code",
   "execution_count": 194,
   "id": "cff3397d-b787-4ed6-b887-c377d3b0dc1a",
   "metadata": {},
   "outputs": [
    {
     "data": {
      "text/plain": [
       "['EDDF', 'EGLL\\n']"
      ]
     },
     "execution_count": 194,
     "metadata": {},
     "output_type": "execute_result"
    }
   ],
   "source": [
    "data[0]"
   ]
  },
  {
   "cell_type": "code",
   "execution_count": 195,
   "id": "de594d87-ce28-46a2-8969-ad1dd437cc0b",
   "metadata": {},
   "outputs": [],
   "source": [
    "for i in range(len(data)):\n",
    "    data[i][0] = data[i][0].replace(\"\\n\", \"\")\n",
    "    data[i][0] = data[i][0].replace(\"'\", \"\")\n",
    "    data[i][1] = data[i][1].replace(\"\\n\", \"\")\n",
    "    data[i][1] = data[i][1].replace(\"'\", \"\")"
   ]
  },
  {
   "cell_type": "code",
   "execution_count": 196,
   "id": "53bc2d4a-d37c-4324-aaba-ecdb55eea936",
   "metadata": {},
   "outputs": [
    {
     "data": {
      "text/plain": [
       "['EDDF', 'EGLL']"
      ]
     },
     "execution_count": 196,
     "metadata": {},
     "output_type": "execute_result"
    }
   ],
   "source": [
    "data[0]"
   ]
  },
  {
   "cell_type": "code",
   "execution_count": 197,
   "id": "b01f7c8f-df53-4131-b2ba-96b9019596de",
   "metadata": {},
   "outputs": [],
   "source": [
    "edgelist = []"
   ]
  },
  {
   "cell_type": "code",
   "execution_count": 198,
   "id": "4f02f2a2-bcfb-4ba3-8b2a-760e7d302f43",
   "metadata": {},
   "outputs": [],
   "source": [
    "for i in range(len(data)):\n",
    "    tup = (data[i][0],data[i][1])\n",
    "    edgelist.append(tup)"
   ]
  },
  {
   "cell_type": "raw",
   "id": "7e9853da-4d0b-4e8c-815e-c7f6bdd2b77d",
   "metadata": {},
   "source": [
    "print(edgelist)"
   ]
  },
  {
   "cell_type": "markdown",
   "id": "1d83448f-65cf-446d-bafd-7ad2937c196f",
   "metadata": {},
   "source": [
    "# Ora che abbiamo l'edgelist, proviamo a lavorarci"
   ]
  },
  {
   "cell_type": "code",
   "execution_count": 199,
   "id": "f9d89939-4a46-459f-85ae-561662454689",
   "metadata": {},
   "outputs": [],
   "source": [
    "import random"
   ]
  },
  {
   "cell_type": "code",
   "execution_count": 200,
   "id": "6b8edd0d-c625-4538-8848-26ea1e8ec33f",
   "metadata": {},
   "outputs": [
    {
     "data": {
      "text/plain": [
       "1"
      ]
     },
     "execution_count": 200,
     "metadata": {},
     "output_type": "execute_result"
    }
   ],
   "source": [
    "random.randint(0,1)"
   ]
  },
  {
   "cell_type": "code",
   "execution_count": 201,
   "id": "16805ef8-4cac-4b0b-848c-562d61c852c3",
   "metadata": {},
   "outputs": [],
   "source": [
    "#def switch_edges(edgelist):"
   ]
  },
  {
   "cell_type": "code",
   "execution_count": null,
   "id": "eb9fe6ee-cae2-40b6-9fe7-4c491619e1be",
   "metadata": {},
   "outputs": [],
   "source": []
  },
  {
   "cell_type": "code",
   "execution_count": 203,
   "id": "c3379fae-6510-487c-9a04-98e6f1aa3290",
   "metadata": {},
   "outputs": [],
   "source": [
    "def switch_edges(edgelist):\n",
    "    \n",
    "    ordine = [i for i in range(len(edgelist))]\n",
    "    random.shuffle(ordine)\n",
    "    \n",
    "    for i in range(len(edgelist)):\n",
    "        rand = random.randint(0,len(edgelist)-1)\n",
    "\n",
    "        A1 = edgelist[ordine[i]][0]\n",
    "        B1 = edgelist[ordine[i]][1]\n",
    "\n",
    "        A2 = edgelist[rand][0]\n",
    "        B2 = edgelist[rand][1]\n",
    "\n",
    "        if A1 == B2:\n",
    "            i = max(i-1,0)\n",
    "            continue\n",
    "\n",
    "        if A2 == B1:\n",
    "            i = max(i-1,0)\n",
    "            continue\n",
    "\n",
    "        if (A1,B2) in edgelist or (A2,B1) in edgelist or (B1,A2) in edgelist or (B2,A1) in edgelist:\n",
    "            i = max(i-1,0)\n",
    "            continue\n",
    "\n",
    "        tup1 = (A1, B2)\n",
    "        tup2 = (A2, B1)\n",
    "        edgelist[ordine[i]] = tup1\n",
    "        edgelist[rand] = tup2\n",
    "        \n",
    "    return edgelist\n"
   ]
  },
  {
   "cell_type": "code",
   "execution_count": 204,
   "id": "c7b261ad-503f-4479-951d-4a63e99997e3",
   "metadata": {},
   "outputs": [],
   "source": [
    "switched_edgelist = switch_edges(edgelist)"
   ]
  },
  {
   "cell_type": "code",
   "execution_count": 205,
   "id": "113b96e6-e26c-4182-9c5e-32c348ccfed5",
   "metadata": {},
   "outputs": [
    {
     "name": "stdout",
     "output_type": "stream",
     "text": [
      "9753\n"
     ]
    }
   ],
   "source": [
    "print(len(switched_edgelist))"
   ]
  },
  {
   "cell_type": "raw",
   "id": "6f60bb1e-a5b2-4559-a2d9-00a7c759fd51",
   "metadata": {},
   "source": [
    "edgelist"
   ]
  },
  {
   "cell_type": "code",
   "execution_count": null,
   "id": "422c9571-2476-4493-9dd7-69568d94de3b",
   "metadata": {},
   "outputs": [],
   "source": []
  },
  {
   "cell_type": "code",
   "execution_count": null,
   "id": "041ed015-528e-4039-b6c2-23a59a794a25",
   "metadata": {},
   "outputs": [],
   "source": []
  },
  {
   "cell_type": "code",
   "execution_count": null,
   "id": "cb07b12d-e0d3-48c2-8e0a-680bd2c86d4c",
   "metadata": {},
   "outputs": [],
   "source": []
  },
  {
   "cell_type": "code",
   "execution_count": 210,
   "id": "af023912-e807-41ea-ae07-0de327bbe28e",
   "metadata": {},
   "outputs": [
    {
     "data": {
      "text/plain": [
       "True"
      ]
     },
     "execution_count": 210,
     "metadata": {},
     "output_type": "execute_result"
    }
   ],
   "source": [
    "airports_original.degree() == airports_switched.degree()"
   ]
  }
 ],
 "metadata": {
  "kernelspec": {
   "display_name": "Python 3 (ipykernel)",
   "language": "python",
   "name": "python3"
  },
  "language_info": {
   "codemirror_mode": {
    "name": "ipython",
    "version": 3
   },
   "file_extension": ".py",
   "mimetype": "text/x-python",
   "name": "python",
   "nbconvert_exporter": "python",
   "pygments_lexer": "ipython3",
   "version": "3.10.6"
  }
 },
 "nbformat": 4,
 "nbformat_minor": 5
}
