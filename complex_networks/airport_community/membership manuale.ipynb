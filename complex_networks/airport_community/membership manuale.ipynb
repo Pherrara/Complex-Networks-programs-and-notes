{
 "cells": [
  {
   "cell_type": "code",
   "execution_count": 1,
   "id": "1f91dfbe-2278-4715-9b0e-940503f83928",
   "metadata": {},
   "outputs": [],
   "source": [
    "import igraph as ig"
   ]
  },
  {
   "cell_type": "code",
   "execution_count": 1,
   "id": "53a824e7-8d08-4fa5-9efb-6ae7964a367f",
   "metadata": {},
   "outputs": [],
   "source": [
    "# create an example graph\n",
    "g = ig.Graph.Famous('Zachary')\n",
    "\n",
    "# calculate the community structure\n",
    "membership = g.community_infomap().membership"
   ]
  },
  {
   "cell_type": "code",
   "execution_count": 2,
   "id": "f796e4b2-90d0-47f7-a38f-85f829758d26",
   "metadata": {},
   "outputs": [
    {
     "data": {
      "text/plain": [
       "[0,\n",
       " 0,\n",
       " 0,\n",
       " 0,\n",
       " 1,\n",
       " 1,\n",
       " 1,\n",
       " 0,\n",
       " 2,\n",
       " 0,\n",
       " 1,\n",
       " 0,\n",
       " 0,\n",
       " 0,\n",
       " 2,\n",
       " 2,\n",
       " 1,\n",
       " 0,\n",
       " 2,\n",
       " 0,\n",
       " 2,\n",
       " 0,\n",
       " 2,\n",
       " 2,\n",
       " 2,\n",
       " 2,\n",
       " 2,\n",
       " 2,\n",
       " 2,\n",
       " 2,\n",
       " 2,\n",
       " 2,\n",
       " 2,\n",
       " 2]"
      ]
     },
     "execution_count": 2,
     "metadata": {},
     "output_type": "execute_result"
    }
   ],
   "source": [
    "membership"
   ]
  },
  {
   "cell_type": "code",
   "execution_count": 3,
   "id": "be81d5df-f8f2-434e-87fc-d35488091988",
   "metadata": {},
   "outputs": [
    {
     "data": {
      "image/svg+xml": [
       "<?xml version=\"1.0\" encoding=\"UTF-8\"?>\n",
       "<svg xmlns=\"http://www.w3.org/2000/svg\" xmlns:xlink=\"http://www.w3.org/1999/xlink\" width=\"600pt\" height=\"600pt\" viewBox=\"0 0 600 600\" version=\"1.1\">\n",
       "<g id=\"surface8\">\n",
       "<rect x=\"0\" y=\"0\" width=\"600\" height=\"600\" style=\"fill:rgb(100%,100%,100%);fill-opacity:1;stroke:none;\"/>\n",
       "<path style=\"fill:none;stroke-width:1;stroke-linecap:butt;stroke-linejoin:miter;stroke:rgb(20%,20%,20%);stroke-opacity:1;stroke-miterlimit:10;\" d=\"M 388.125 373 L 393.230469 306.867188 \"/>\n",
       "<path style=\"fill:none;stroke-width:1;stroke-linecap:butt;stroke-linejoin:miter;stroke:rgb(20%,20%,20%);stroke-opacity:1;stroke-miterlimit:10;\" d=\"M 388.125 373 L 261.433594 273.152344 \"/>\n",
       "<path style=\"fill:none;stroke-width:1;stroke-linecap:butt;stroke-linejoin:miter;stroke:rgb(20%,20%,20%);stroke-opacity:1;stroke-miterlimit:10;\" d=\"M 388.125 373 L 323.679688 362.90625 \"/>\n",
       "<path style=\"fill:none;stroke-width:1;stroke-linecap:butt;stroke-linejoin:miter;stroke:rgb(80%,80%,80%);stroke-opacity:1;stroke-miterlimit:10;\" d=\"M 388.125 373 L 528.269531 443.640625 \"/>\n",
       "<path style=\"fill:none;stroke-width:1;stroke-linecap:butt;stroke-linejoin:miter;stroke:rgb(80%,80%,80%);stroke-opacity:1;stroke-miterlimit:10;\" d=\"M 388.125 373 L 485.898438 513.660156 \"/>\n",
       "<path style=\"fill:none;stroke-width:1;stroke-linecap:butt;stroke-linejoin:miter;stroke:rgb(80%,80%,80%);stroke-opacity:1;stroke-miterlimit:10;\" d=\"M 388.125 373 L 534.316406 492.429688 \"/>\n",
       "<path style=\"fill:none;stroke-width:1;stroke-linecap:butt;stroke-linejoin:miter;stroke:rgb(20%,20%,20%);stroke-opacity:1;stroke-miterlimit:10;\" d=\"M 388.125 373 L 285.417969 358.605469 \"/>\n",
       "<path style=\"fill:none;stroke-width:1;stroke-linecap:butt;stroke-linejoin:miter;stroke:rgb(80%,80%,80%);stroke-opacity:1;stroke-miterlimit:10;\" d=\"M 388.125 373 L 318.003906 227.902344 \"/>\n",
       "<path style=\"fill:none;stroke-width:1;stroke-linecap:butt;stroke-linejoin:miter;stroke:rgb(80%,80%,80%);stroke-opacity:1;stroke-miterlimit:10;\" d=\"M 388.125 373 L 461.90625 470.066406 \"/>\n",
       "<path style=\"fill:none;stroke-width:1;stroke-linecap:butt;stroke-linejoin:miter;stroke:rgb(20%,20%,20%);stroke-opacity:1;stroke-miterlimit:10;\" d=\"M 388.125 373 L 351.261719 503.652344 \"/>\n",
       "<path style=\"fill:none;stroke-width:1;stroke-linecap:butt;stroke-linejoin:miter;stroke:rgb(20%,20%,20%);stroke-opacity:1;stroke-miterlimit:10;\" d=\"M 388.125 373 L 305.480469 448.222656 \"/>\n",
       "<path style=\"fill:none;stroke-width:1;stroke-linecap:butt;stroke-linejoin:miter;stroke:rgb(20%,20%,20%);stroke-opacity:1;stroke-miterlimit:10;\" d=\"M 388.125 373 L 319.761719 285.085938 \"/>\n",
       "<path style=\"fill:none;stroke-width:1;stroke-linecap:butt;stroke-linejoin:miter;stroke:rgb(20%,20%,20%);stroke-opacity:1;stroke-miterlimit:10;\" d=\"M 388.125 373 L 518.429688 326.546875 \"/>\n",
       "<path style=\"fill:none;stroke-width:1;stroke-linecap:butt;stroke-linejoin:miter;stroke:rgb(20%,20%,20%);stroke-opacity:1;stroke-miterlimit:10;\" d=\"M 388.125 373 L 385.042969 249.089844 \"/>\n",
       "<path style=\"fill:none;stroke-width:1;stroke-linecap:butt;stroke-linejoin:miter;stroke:rgb(20%,20%,20%);stroke-opacity:1;stroke-miterlimit:10;\" d=\"M 388.125 373 L 501.265625 366.496094 \"/>\n",
       "<path style=\"fill:none;stroke-width:1;stroke-linecap:butt;stroke-linejoin:miter;stroke:rgb(80%,80%,80%);stroke-opacity:1;stroke-miterlimit:10;\" d=\"M 388.125 373 L 187.785156 247.953125 \"/>\n",
       "<path style=\"fill:none;stroke-width:1;stroke-linecap:butt;stroke-linejoin:miter;stroke:rgb(20%,20%,20%);stroke-opacity:1;stroke-miterlimit:10;\" d=\"M 393.230469 306.867188 L 261.433594 273.152344 \"/>\n",
       "<path style=\"fill:none;stroke-width:1;stroke-linecap:butt;stroke-linejoin:miter;stroke:rgb(20%,20%,20%);stroke-opacity:1;stroke-miterlimit:10;\" d=\"M 393.230469 306.867188 L 323.679688 362.90625 \"/>\n",
       "<path style=\"fill:none;stroke-width:1;stroke-linecap:butt;stroke-linejoin:miter;stroke:rgb(20%,20%,20%);stroke-opacity:1;stroke-miterlimit:10;\" d=\"M 393.230469 306.867188 L 285.417969 358.605469 \"/>\n",
       "<path style=\"fill:none;stroke-width:1;stroke-linecap:butt;stroke-linejoin:miter;stroke:rgb(20%,20%,20%);stroke-opacity:1;stroke-miterlimit:10;\" d=\"M 393.230469 306.867188 L 319.761719 285.085938 \"/>\n",
       "<path style=\"fill:none;stroke-width:1;stroke-linecap:butt;stroke-linejoin:miter;stroke:rgb(20%,20%,20%);stroke-opacity:1;stroke-miterlimit:10;\" d=\"M 393.230469 306.867188 L 518.429688 326.546875 \"/>\n",
       "<path style=\"fill:none;stroke-width:1;stroke-linecap:butt;stroke-linejoin:miter;stroke:rgb(20%,20%,20%);stroke-opacity:1;stroke-miterlimit:10;\" d=\"M 393.230469 306.867188 L 385.042969 249.089844 \"/>\n",
       "<path style=\"fill:none;stroke-width:1;stroke-linecap:butt;stroke-linejoin:miter;stroke:rgb(20%,20%,20%);stroke-opacity:1;stroke-miterlimit:10;\" d=\"M 393.230469 306.867188 L 501.265625 366.496094 \"/>\n",
       "<path style=\"fill:none;stroke-width:1;stroke-linecap:butt;stroke-linejoin:miter;stroke:rgb(80%,80%,80%);stroke-opacity:1;stroke-miterlimit:10;\" d=\"M 393.230469 306.867188 L 354.4375 183.789062 \"/>\n",
       "<path style=\"fill:none;stroke-width:1;stroke-linecap:butt;stroke-linejoin:miter;stroke:rgb(20%,20%,20%);stroke-opacity:1;stroke-miterlimit:10;\" d=\"M 261.433594 273.152344 L 323.679688 362.90625 \"/>\n",
       "<path style=\"fill:none;stroke-width:1;stroke-linecap:butt;stroke-linejoin:miter;stroke:rgb(20%,20%,20%);stroke-opacity:1;stroke-miterlimit:10;\" d=\"M 261.433594 273.152344 L 285.417969 358.605469 \"/>\n",
       "<path style=\"fill:none;stroke-width:1;stroke-linecap:butt;stroke-linejoin:miter;stroke:rgb(80%,80%,80%);stroke-opacity:1;stroke-miterlimit:10;\" d=\"M 261.433594 273.152344 L 114.042969 204.304688 \"/>\n",
       "<path style=\"fill:none;stroke-width:1;stroke-linecap:butt;stroke-linejoin:miter;stroke:rgb(80%,80%,80%);stroke-opacity:1;stroke-miterlimit:10;\" d=\"M 261.433594 273.152344 L 201.511719 206.664062 \"/>\n",
       "<path style=\"fill:none;stroke-width:1;stroke-linecap:butt;stroke-linejoin:miter;stroke:rgb(80%,80%,80%);stroke-opacity:1;stroke-miterlimit:10;\" d=\"M 261.433594 273.152344 L 247.027344 130.492188 \"/>\n",
       "<path style=\"fill:none;stroke-width:1;stroke-linecap:butt;stroke-linejoin:miter;stroke:rgb(20%,20%,20%);stroke-opacity:1;stroke-miterlimit:10;\" d=\"M 261.433594 273.152344 L 138.488281 243.449219 \"/>\n",
       "<path style=\"fill:none;stroke-width:1;stroke-linecap:butt;stroke-linejoin:miter;stroke:rgb(80%,80%,80%);stroke-opacity:1;stroke-miterlimit:10;\" d=\"M 261.433594 273.152344 L 318.003906 227.902344 \"/>\n",
       "<path style=\"fill:none;stroke-width:1;stroke-linecap:butt;stroke-linejoin:miter;stroke:rgb(20%,20%,20%);stroke-opacity:1;stroke-miterlimit:10;\" d=\"M 261.433594 273.152344 L 319.761719 285.085938 \"/>\n",
       "<path style=\"fill:none;stroke-width:1;stroke-linecap:butt;stroke-linejoin:miter;stroke:rgb(20%,20%,20%);stroke-opacity:1;stroke-miterlimit:10;\" d=\"M 323.679688 362.90625 L 285.417969 358.605469 \"/>\n",
       "<path style=\"fill:none;stroke-width:1;stroke-linecap:butt;stroke-linejoin:miter;stroke:rgb(20%,20%,20%);stroke-opacity:1;stroke-miterlimit:10;\" d=\"M 323.679688 362.90625 L 305.480469 448.222656 \"/>\n",
       "<path style=\"fill:none;stroke-width:1;stroke-linecap:butt;stroke-linejoin:miter;stroke:rgb(20%,20%,20%);stroke-opacity:1;stroke-miterlimit:10;\" d=\"M 323.679688 362.90625 L 319.761719 285.085938 \"/>\n",
       "<path style=\"fill:none;stroke-width:1;stroke-linecap:butt;stroke-linejoin:miter;stroke:rgb(20%,20%,20%);stroke-opacity:1;stroke-miterlimit:10;\" d=\"M 528.269531 443.640625 L 534.316406 492.429688 \"/>\n",
       "<path style=\"fill:none;stroke-width:1;stroke-linecap:butt;stroke-linejoin:miter;stroke:rgb(20%,20%,20%);stroke-opacity:1;stroke-miterlimit:10;\" d=\"M 528.269531 443.640625 L 461.90625 470.066406 \"/>\n",
       "<path style=\"fill:none;stroke-width:1;stroke-linecap:butt;stroke-linejoin:miter;stroke:rgb(20%,20%,20%);stroke-opacity:1;stroke-miterlimit:10;\" d=\"M 485.898438 513.660156 L 534.316406 492.429688 \"/>\n",
       "<path style=\"fill:none;stroke-width:1;stroke-linecap:butt;stroke-linejoin:miter;stroke:rgb(20%,20%,20%);stroke-opacity:1;stroke-miterlimit:10;\" d=\"M 485.898438 513.660156 L 461.90625 470.066406 \"/>\n",
       "<path style=\"fill:none;stroke-width:1;stroke-linecap:butt;stroke-linejoin:miter;stroke:rgb(20%,20%,20%);stroke-opacity:1;stroke-miterlimit:10;\" d=\"M 485.898438 513.660156 L 580 580 \"/>\n",
       "<path style=\"fill:none;stroke-width:1;stroke-linecap:butt;stroke-linejoin:miter;stroke:rgb(20%,20%,20%);stroke-opacity:1;stroke-miterlimit:10;\" d=\"M 534.316406 492.429688 L 580 580 \"/>\n",
       "<path style=\"fill:none;stroke-width:1;stroke-linecap:butt;stroke-linejoin:miter;stroke:rgb(20%,20%,20%);stroke-opacity:1;stroke-miterlimit:10;\" d=\"M 318.003906 227.902344 L 354.4375 183.789062 \"/>\n",
       "<path style=\"fill:none;stroke-width:1;stroke-linecap:butt;stroke-linejoin:miter;stroke:rgb(20%,20%,20%);stroke-opacity:1;stroke-miterlimit:10;\" d=\"M 318.003906 227.902344 L 247.027344 130.492188 \"/>\n",
       "<path style=\"fill:none;stroke-width:1;stroke-linecap:butt;stroke-linejoin:miter;stroke:rgb(20%,20%,20%);stroke-opacity:1;stroke-miterlimit:10;\" d=\"M 318.003906 227.902344 L 234.273438 148.765625 \"/>\n",
       "<path style=\"fill:none;stroke-width:1;stroke-linecap:butt;stroke-linejoin:miter;stroke:rgb(80%,80%,80%);stroke-opacity:1;stroke-miterlimit:10;\" d=\"M 138.488281 243.449219 L 234.273438 148.765625 \"/>\n",
       "<path style=\"fill:none;stroke-width:1;stroke-linecap:butt;stroke-linejoin:miter;stroke:rgb(80%,80%,80%);stroke-opacity:1;stroke-miterlimit:10;\" d=\"M 319.761719 285.085938 L 234.273438 148.765625 \"/>\n",
       "<path style=\"fill:none;stroke-width:1;stroke-linecap:butt;stroke-linejoin:miter;stroke:rgb(20%,20%,20%);stroke-opacity:1;stroke-miterlimit:10;\" d=\"M 271.777344 38.746094 L 247.027344 130.492188 \"/>\n",
       "<path style=\"fill:none;stroke-width:1;stroke-linecap:butt;stroke-linejoin:miter;stroke:rgb(20%,20%,20%);stroke-opacity:1;stroke-miterlimit:10;\" d=\"M 271.777344 38.746094 L 234.273438 148.765625 \"/>\n",
       "<path style=\"fill:none;stroke-width:1;stroke-linecap:butt;stroke-linejoin:miter;stroke:rgb(20%,20%,20%);stroke-opacity:1;stroke-miterlimit:10;\" d=\"M 350.867188 85.476562 L 247.027344 130.492188 \"/>\n",
       "<path style=\"fill:none;stroke-width:1;stroke-linecap:butt;stroke-linejoin:miter;stroke:rgb(20%,20%,20%);stroke-opacity:1;stroke-miterlimit:10;\" d=\"M 350.867188 85.476562 L 234.273438 148.765625 \"/>\n",
       "<path style=\"fill:none;stroke-width:1;stroke-linecap:butt;stroke-linejoin:miter;stroke:rgb(20%,20%,20%);stroke-opacity:1;stroke-miterlimit:10;\" d=\"M 221.074219 43.171875 L 247.027344 130.492188 \"/>\n",
       "<path style=\"fill:none;stroke-width:1;stroke-linecap:butt;stroke-linejoin:miter;stroke:rgb(20%,20%,20%);stroke-opacity:1;stroke-miterlimit:10;\" d=\"M 221.074219 43.171875 L 234.273438 148.765625 \"/>\n",
       "<path style=\"fill:none;stroke-width:1;stroke-linecap:butt;stroke-linejoin:miter;stroke:rgb(80%,80%,80%);stroke-opacity:1;stroke-miterlimit:10;\" d=\"M 385.042969 249.089844 L 234.273438 148.765625 \"/>\n",
       "<path style=\"fill:none;stroke-width:1;stroke-linecap:butt;stroke-linejoin:miter;stroke:rgb(20%,20%,20%);stroke-opacity:1;stroke-miterlimit:10;\" d=\"M 121.242188 83.386719 L 247.027344 130.492188 \"/>\n",
       "<path style=\"fill:none;stroke-width:1;stroke-linecap:butt;stroke-linejoin:miter;stroke:rgb(20%,20%,20%);stroke-opacity:1;stroke-miterlimit:10;\" d=\"M 121.242188 83.386719 L 234.273438 148.765625 \"/>\n",
       "<path style=\"fill:none;stroke-width:1;stroke-linecap:butt;stroke-linejoin:miter;stroke:rgb(20%,20%,20%);stroke-opacity:1;stroke-miterlimit:10;\" d=\"M 317.042969 55.515625 L 247.027344 130.492188 \"/>\n",
       "<path style=\"fill:none;stroke-width:1;stroke-linecap:butt;stroke-linejoin:miter;stroke:rgb(20%,20%,20%);stroke-opacity:1;stroke-miterlimit:10;\" d=\"M 317.042969 55.515625 L 234.273438 148.765625 \"/>\n",
       "<path style=\"fill:none;stroke-width:1;stroke-linecap:butt;stroke-linejoin:miter;stroke:rgb(20%,20%,20%);stroke-opacity:1;stroke-miterlimit:10;\" d=\"M 106.714844 135.40625 L 20 202.511719 \"/>\n",
       "<path style=\"fill:none;stroke-width:1;stroke-linecap:butt;stroke-linejoin:miter;stroke:rgb(20%,20%,20%);stroke-opacity:1;stroke-miterlimit:10;\" d=\"M 106.714844 135.40625 L 114.042969 204.304688 \"/>\n",
       "<path style=\"fill:none;stroke-width:1;stroke-linecap:butt;stroke-linejoin:miter;stroke:rgb(20%,20%,20%);stroke-opacity:1;stroke-miterlimit:10;\" d=\"M 106.714844 135.40625 L 247.027344 130.492188 \"/>\n",
       "<path style=\"fill:none;stroke-width:1;stroke-linecap:butt;stroke-linejoin:miter;stroke:rgb(20%,20%,20%);stroke-opacity:1;stroke-miterlimit:10;\" d=\"M 106.714844 135.40625 L 234.273438 148.765625 \"/>\n",
       "<path style=\"fill:none;stroke-width:1;stroke-linecap:butt;stroke-linejoin:miter;stroke:rgb(20%,20%,20%);stroke-opacity:1;stroke-miterlimit:10;\" d=\"M 106.714844 135.40625 L 161.679688 71.425781 \"/>\n",
       "<path style=\"fill:none;stroke-width:1;stroke-linecap:butt;stroke-linejoin:miter;stroke:rgb(20%,20%,20%);stroke-opacity:1;stroke-miterlimit:10;\" d=\"M 22.195312 254.984375 L 20 202.511719 \"/>\n",
       "<path style=\"fill:none;stroke-width:1;stroke-linecap:butt;stroke-linejoin:miter;stroke:rgb(20%,20%,20%);stroke-opacity:1;stroke-miterlimit:10;\" d=\"M 22.195312 254.984375 L 114.042969 204.304688 \"/>\n",
       "<path style=\"fill:none;stroke-width:1;stroke-linecap:butt;stroke-linejoin:miter;stroke:rgb(20%,20%,20%);stroke-opacity:1;stroke-miterlimit:10;\" d=\"M 22.195312 254.984375 L 187.785156 247.953125 \"/>\n",
       "<path style=\"fill:none;stroke-width:1;stroke-linecap:butt;stroke-linejoin:miter;stroke:rgb(20%,20%,20%);stroke-opacity:1;stroke-miterlimit:10;\" d=\"M 20 202.511719 L 187.785156 247.953125 \"/>\n",
       "<path style=\"fill:none;stroke-width:1;stroke-linecap:butt;stroke-linejoin:miter;stroke:rgb(20%,20%,20%);stroke-opacity:1;stroke-miterlimit:10;\" d=\"M 139.226562 20 L 161.679688 71.425781 \"/>\n",
       "<path style=\"fill:none;stroke-width:1;stroke-linecap:butt;stroke-linejoin:miter;stroke:rgb(20%,20%,20%);stroke-opacity:1;stroke-miterlimit:10;\" d=\"M 139.226562 20 L 234.273438 148.765625 \"/>\n",
       "<path style=\"fill:none;stroke-width:1;stroke-linecap:butt;stroke-linejoin:miter;stroke:rgb(20%,20%,20%);stroke-opacity:1;stroke-miterlimit:10;\" d=\"M 114.042969 204.304688 L 234.273438 148.765625 \"/>\n",
       "<path style=\"fill:none;stroke-width:1;stroke-linecap:butt;stroke-linejoin:miter;stroke:rgb(20%,20%,20%);stroke-opacity:1;stroke-miterlimit:10;\" d=\"M 201.511719 206.664062 L 187.785156 247.953125 \"/>\n",
       "<path style=\"fill:none;stroke-width:1;stroke-linecap:butt;stroke-linejoin:miter;stroke:rgb(20%,20%,20%);stroke-opacity:1;stroke-miterlimit:10;\" d=\"M 201.511719 206.664062 L 234.273438 148.765625 \"/>\n",
       "<path style=\"fill:none;stroke-width:1;stroke-linecap:butt;stroke-linejoin:miter;stroke:rgb(20%,20%,20%);stroke-opacity:1;stroke-miterlimit:10;\" d=\"M 161.679688 71.425781 L 247.027344 130.492188 \"/>\n",
       "<path style=\"fill:none;stroke-width:1;stroke-linecap:butt;stroke-linejoin:miter;stroke:rgb(20%,20%,20%);stroke-opacity:1;stroke-miterlimit:10;\" d=\"M 161.679688 71.425781 L 234.273438 148.765625 \"/>\n",
       "<path style=\"fill:none;stroke-width:1;stroke-linecap:butt;stroke-linejoin:miter;stroke:rgb(20%,20%,20%);stroke-opacity:1;stroke-miterlimit:10;\" d=\"M 354.4375 183.789062 L 247.027344 130.492188 \"/>\n",
       "<path style=\"fill:none;stroke-width:1;stroke-linecap:butt;stroke-linejoin:miter;stroke:rgb(20%,20%,20%);stroke-opacity:1;stroke-miterlimit:10;\" d=\"M 354.4375 183.789062 L 234.273438 148.765625 \"/>\n",
       "<path style=\"fill:none;stroke-width:1;stroke-linecap:butt;stroke-linejoin:miter;stroke:rgb(20%,20%,20%);stroke-opacity:1;stroke-miterlimit:10;\" d=\"M 187.785156 247.953125 L 247.027344 130.492188 \"/>\n",
       "<path style=\"fill:none;stroke-width:1;stroke-linecap:butt;stroke-linejoin:miter;stroke:rgb(20%,20%,20%);stroke-opacity:1;stroke-miterlimit:10;\" d=\"M 187.785156 247.953125 L 234.273438 148.765625 \"/>\n",
       "<path style=\"fill:none;stroke-width:1;stroke-linecap:butt;stroke-linejoin:miter;stroke:rgb(20%,20%,20%);stroke-opacity:1;stroke-miterlimit:10;\" d=\"M 247.027344 130.492188 L 234.273438 148.765625 \"/>\n",
       "<path style=\"fill-rule:nonzero;fill:rgb(100%,0%,0%);fill-opacity:1;stroke-width:1;stroke-linecap:butt;stroke-linejoin:miter;stroke:rgb(0%,0%,0%);stroke-opacity:1;stroke-miterlimit:10;\" d=\"M 398.125 373 C 398.125 378.523438 393.648438 383 388.125 383 C 382.601562 383 378.125 378.523438 378.125 373 C 378.125 367.476562 382.601562 363 388.125 363 C 393.648438 363 398.125 367.476562 398.125 373 \"/>\n",
       "<path style=\"fill-rule:nonzero;fill:rgb(100%,0%,0%);fill-opacity:1;stroke-width:1;stroke-linecap:butt;stroke-linejoin:miter;stroke:rgb(0%,0%,0%);stroke-opacity:1;stroke-miterlimit:10;\" d=\"M 403.230469 306.867188 C 403.230469 312.390625 398.753906 316.867188 393.230469 316.867188 C 387.707031 316.867188 383.230469 312.390625 383.230469 306.867188 C 383.230469 301.34375 387.707031 296.867188 393.230469 296.867188 C 398.753906 296.867188 403.230469 301.34375 403.230469 306.867188 \"/>\n",
       "<path style=\"fill-rule:nonzero;fill:rgb(100%,0%,0%);fill-opacity:1;stroke-width:1;stroke-linecap:butt;stroke-linejoin:miter;stroke:rgb(0%,0%,0%);stroke-opacity:1;stroke-miterlimit:10;\" d=\"M 271.433594 273.152344 C 271.433594 278.675781 266.953125 283.152344 261.433594 283.152344 C 255.910156 283.152344 251.433594 278.675781 251.433594 273.152344 C 251.433594 267.628906 255.910156 263.152344 261.433594 263.152344 C 266.953125 263.152344 271.433594 267.628906 271.433594 273.152344 \"/>\n",
       "<path style=\"fill-rule:nonzero;fill:rgb(100%,0%,0%);fill-opacity:1;stroke-width:1;stroke-linecap:butt;stroke-linejoin:miter;stroke:rgb(0%,0%,0%);stroke-opacity:1;stroke-miterlimit:10;\" d=\"M 333.679688 362.90625 C 333.679688 368.429688 329.203125 372.90625 323.679688 372.90625 C 318.15625 372.90625 313.679688 368.429688 313.679688 362.90625 C 313.679688 357.386719 318.15625 352.90625 323.679688 352.90625 C 329.203125 352.90625 333.679688 357.386719 333.679688 362.90625 \"/>\n",
       "<path style=\"fill-rule:nonzero;fill:rgb(0%,100%,0%);fill-opacity:1;stroke-width:1;stroke-linecap:butt;stroke-linejoin:miter;stroke:rgb(0%,0%,0%);stroke-opacity:1;stroke-miterlimit:10;\" d=\"M 538.269531 443.640625 C 538.269531 449.164062 533.792969 453.640625 528.269531 453.640625 C 522.746094 453.640625 518.269531 449.164062 518.269531 443.640625 C 518.269531 438.117188 522.746094 433.640625 528.269531 433.640625 C 533.792969 433.640625 538.269531 438.117188 538.269531 443.640625 \"/>\n",
       "<path style=\"fill-rule:nonzero;fill:rgb(0%,100%,0%);fill-opacity:1;stroke-width:1;stroke-linecap:butt;stroke-linejoin:miter;stroke:rgb(0%,0%,0%);stroke-opacity:1;stroke-miterlimit:10;\" d=\"M 495.898438 513.660156 C 495.898438 519.183594 491.421875 523.660156 485.898438 523.660156 C 480.375 523.660156 475.898438 519.183594 475.898438 513.660156 C 475.898438 508.136719 480.375 503.660156 485.898438 503.660156 C 491.421875 503.660156 495.898438 508.136719 495.898438 513.660156 \"/>\n",
       "<path style=\"fill-rule:nonzero;fill:rgb(0%,100%,0%);fill-opacity:1;stroke-width:1;stroke-linecap:butt;stroke-linejoin:miter;stroke:rgb(0%,0%,0%);stroke-opacity:1;stroke-miterlimit:10;\" d=\"M 544.316406 492.429688 C 544.316406 497.953125 539.839844 502.429688 534.316406 502.429688 C 528.792969 502.429688 524.316406 497.953125 524.316406 492.429688 C 524.316406 486.90625 528.792969 482.429688 534.316406 482.429688 C 539.839844 482.429688 544.316406 486.90625 544.316406 492.429688 \"/>\n",
       "<path style=\"fill-rule:nonzero;fill:rgb(100%,0%,0%);fill-opacity:1;stroke-width:1;stroke-linecap:butt;stroke-linejoin:miter;stroke:rgb(0%,0%,0%);stroke-opacity:1;stroke-miterlimit:10;\" d=\"M 295.417969 358.605469 C 295.417969 364.128906 290.941406 368.605469 285.417969 368.605469 C 279.894531 368.605469 275.417969 364.128906 275.417969 358.605469 C 275.417969 353.082031 279.894531 348.605469 285.417969 348.605469 C 290.941406 348.605469 295.417969 353.082031 295.417969 358.605469 \"/>\n",
       "<path style=\"fill-rule:nonzero;fill:rgb(0%,0%,100%);fill-opacity:1;stroke-width:1;stroke-linecap:butt;stroke-linejoin:miter;stroke:rgb(0%,0%,0%);stroke-opacity:1;stroke-miterlimit:10;\" d=\"M 328.003906 227.902344 C 328.003906 233.425781 323.527344 237.902344 318.003906 237.902344 C 312.480469 237.902344 308.003906 233.425781 308.003906 227.902344 C 308.003906 222.378906 312.480469 217.902344 318.003906 217.902344 C 323.527344 217.902344 328.003906 222.378906 328.003906 227.902344 \"/>\n",
       "<path style=\"fill-rule:nonzero;fill:rgb(100%,0%,0%);fill-opacity:1;stroke-width:1;stroke-linecap:butt;stroke-linejoin:miter;stroke:rgb(0%,0%,0%);stroke-opacity:1;stroke-miterlimit:10;\" d=\"M 148.488281 243.449219 C 148.488281 248.972656 144.011719 253.449219 138.488281 253.449219 C 132.964844 253.449219 128.488281 248.972656 128.488281 243.449219 C 128.488281 237.929688 132.964844 233.449219 138.488281 233.449219 C 144.011719 233.449219 148.488281 237.929688 148.488281 243.449219 \"/>\n",
       "<path style=\"fill-rule:nonzero;fill:rgb(0%,100%,0%);fill-opacity:1;stroke-width:1;stroke-linecap:butt;stroke-linejoin:miter;stroke:rgb(0%,0%,0%);stroke-opacity:1;stroke-miterlimit:10;\" d=\"M 471.90625 470.066406 C 471.90625 475.589844 467.429688 480.066406 461.90625 480.066406 C 456.382812 480.066406 451.90625 475.589844 451.90625 470.066406 C 451.90625 464.546875 456.382812 460.066406 461.90625 460.066406 C 467.429688 460.066406 471.90625 464.546875 471.90625 470.066406 \"/>\n",
       "<path style=\"fill-rule:nonzero;fill:rgb(100%,0%,0%);fill-opacity:1;stroke-width:1;stroke-linecap:butt;stroke-linejoin:miter;stroke:rgb(0%,0%,0%);stroke-opacity:1;stroke-miterlimit:10;\" d=\"M 361.261719 503.652344 C 361.261719 509.171875 356.785156 513.652344 351.261719 513.652344 C 345.738281 513.652344 341.261719 509.171875 341.261719 503.652344 C 341.261719 498.128906 345.738281 493.652344 351.261719 493.652344 C 356.785156 493.652344 361.261719 498.128906 361.261719 503.652344 \"/>\n",
       "<path style=\"fill-rule:nonzero;fill:rgb(100%,0%,0%);fill-opacity:1;stroke-width:1;stroke-linecap:butt;stroke-linejoin:miter;stroke:rgb(0%,0%,0%);stroke-opacity:1;stroke-miterlimit:10;\" d=\"M 315.480469 448.222656 C 315.480469 453.746094 311 458.222656 305.480469 458.222656 C 299.957031 458.222656 295.480469 453.746094 295.480469 448.222656 C 295.480469 442.699219 299.957031 438.222656 305.480469 438.222656 C 311 438.222656 315.480469 442.699219 315.480469 448.222656 \"/>\n",
       "<path style=\"fill-rule:nonzero;fill:rgb(100%,0%,0%);fill-opacity:1;stroke-width:1;stroke-linecap:butt;stroke-linejoin:miter;stroke:rgb(0%,0%,0%);stroke-opacity:1;stroke-miterlimit:10;\" d=\"M 329.761719 285.085938 C 329.761719 290.605469 325.285156 295.085938 319.761719 295.085938 C 314.242188 295.085938 309.761719 290.605469 309.761719 285.085938 C 309.761719 279.5625 314.242188 275.085938 319.761719 275.085938 C 325.285156 275.085938 329.761719 279.5625 329.761719 285.085938 \"/>\n",
       "<path style=\"fill-rule:nonzero;fill:rgb(0%,0%,100%);fill-opacity:1;stroke-width:1;stroke-linecap:butt;stroke-linejoin:miter;stroke:rgb(0%,0%,0%);stroke-opacity:1;stroke-miterlimit:10;\" d=\"M 281.777344 38.746094 C 281.777344 44.269531 277.300781 48.746094 271.777344 48.746094 C 266.253906 48.746094 261.777344 44.269531 261.777344 38.746094 C 261.777344 33.222656 266.253906 28.746094 271.777344 28.746094 C 277.300781 28.746094 281.777344 33.222656 281.777344 38.746094 \"/>\n",
       "<path style=\"fill-rule:nonzero;fill:rgb(0%,0%,100%);fill-opacity:1;stroke-width:1;stroke-linecap:butt;stroke-linejoin:miter;stroke:rgb(0%,0%,0%);stroke-opacity:1;stroke-miterlimit:10;\" d=\"M 360.867188 85.476562 C 360.867188 91 356.390625 95.476562 350.867188 95.476562 C 345.34375 95.476562 340.867188 91 340.867188 85.476562 C 340.867188 79.953125 345.34375 75.476562 350.867188 75.476562 C 356.390625 75.476562 360.867188 79.953125 360.867188 85.476562 \"/>\n",
       "<path style=\"fill-rule:nonzero;fill:rgb(0%,100%,0%);fill-opacity:1;stroke-width:1;stroke-linecap:butt;stroke-linejoin:miter;stroke:rgb(0%,0%,0%);stroke-opacity:1;stroke-miterlimit:10;\" d=\"M 590 580 C 590 585.523438 585.523438 590 580 590 C 574.476562 590 570 585.523438 570 580 C 570 574.476562 574.476562 570 580 570 C 585.523438 570 590 574.476562 590 580 \"/>\n",
       "<path style=\"fill-rule:nonzero;fill:rgb(100%,0%,0%);fill-opacity:1;stroke-width:1;stroke-linecap:butt;stroke-linejoin:miter;stroke:rgb(0%,0%,0%);stroke-opacity:1;stroke-miterlimit:10;\" d=\"M 528.429688 326.546875 C 528.429688 332.070312 523.953125 336.546875 518.429688 336.546875 C 512.90625 336.546875 508.429688 332.070312 508.429688 326.546875 C 508.429688 321.023438 512.90625 316.546875 518.429688 316.546875 C 523.953125 316.546875 528.429688 321.023438 528.429688 326.546875 \"/>\n",
       "<path style=\"fill-rule:nonzero;fill:rgb(0%,0%,100%);fill-opacity:1;stroke-width:1;stroke-linecap:butt;stroke-linejoin:miter;stroke:rgb(0%,0%,0%);stroke-opacity:1;stroke-miterlimit:10;\" d=\"M 231.074219 43.171875 C 231.074219 48.695312 226.597656 53.171875 221.074219 53.171875 C 215.550781 53.171875 211.074219 48.695312 211.074219 43.171875 C 211.074219 37.648438 215.550781 33.171875 221.074219 33.171875 C 226.597656 33.171875 231.074219 37.648438 231.074219 43.171875 \"/>\n",
       "<path style=\"fill-rule:nonzero;fill:rgb(100%,0%,0%);fill-opacity:1;stroke-width:1;stroke-linecap:butt;stroke-linejoin:miter;stroke:rgb(0%,0%,0%);stroke-opacity:1;stroke-miterlimit:10;\" d=\"M 395.042969 249.089844 C 395.042969 254.609375 390.566406 259.089844 385.042969 259.089844 C 379.519531 259.089844 375.042969 254.609375 375.042969 249.089844 C 375.042969 243.566406 379.519531 239.089844 385.042969 239.089844 C 390.566406 239.089844 395.042969 243.566406 395.042969 249.089844 \"/>\n",
       "<path style=\"fill-rule:nonzero;fill:rgb(0%,0%,100%);fill-opacity:1;stroke-width:1;stroke-linecap:butt;stroke-linejoin:miter;stroke:rgb(0%,0%,0%);stroke-opacity:1;stroke-miterlimit:10;\" d=\"M 131.242188 83.386719 C 131.242188 88.90625 126.765625 93.386719 121.242188 93.386719 C 115.71875 93.386719 111.242188 88.90625 111.242188 83.386719 C 111.242188 77.863281 115.71875 73.386719 121.242188 73.386719 C 126.765625 73.386719 131.242188 77.863281 131.242188 83.386719 \"/>\n",
       "<path style=\"fill-rule:nonzero;fill:rgb(100%,0%,0%);fill-opacity:1;stroke-width:1;stroke-linecap:butt;stroke-linejoin:miter;stroke:rgb(0%,0%,0%);stroke-opacity:1;stroke-miterlimit:10;\" d=\"M 511.265625 366.496094 C 511.265625 372.019531 506.789062 376.496094 501.265625 376.496094 C 495.742188 376.496094 491.265625 372.019531 491.265625 366.496094 C 491.265625 360.972656 495.742188 356.496094 501.265625 356.496094 C 506.789062 356.496094 511.265625 360.972656 511.265625 366.496094 \"/>\n",
       "<path style=\"fill-rule:nonzero;fill:rgb(0%,0%,100%);fill-opacity:1;stroke-width:1;stroke-linecap:butt;stroke-linejoin:miter;stroke:rgb(0%,0%,0%);stroke-opacity:1;stroke-miterlimit:10;\" d=\"M 327.042969 55.515625 C 327.042969 61.039062 322.566406 65.515625 317.042969 65.515625 C 311.519531 65.515625 307.042969 61.039062 307.042969 55.515625 C 307.042969 49.992188 311.519531 45.515625 317.042969 45.515625 C 322.566406 45.515625 327.042969 49.992188 327.042969 55.515625 \"/>\n",
       "<path style=\"fill-rule:nonzero;fill:rgb(0%,0%,100%);fill-opacity:1;stroke-width:1;stroke-linecap:butt;stroke-linejoin:miter;stroke:rgb(0%,0%,0%);stroke-opacity:1;stroke-miterlimit:10;\" d=\"M 116.714844 135.40625 C 116.714844 140.929688 112.238281 145.40625 106.714844 145.40625 C 101.191406 145.40625 96.714844 140.929688 96.714844 135.40625 C 96.714844 129.882812 101.191406 125.40625 106.714844 125.40625 C 112.238281 125.40625 116.714844 129.882812 116.714844 135.40625 \"/>\n",
       "<path style=\"fill-rule:nonzero;fill:rgb(0%,0%,100%);fill-opacity:1;stroke-width:1;stroke-linecap:butt;stroke-linejoin:miter;stroke:rgb(0%,0%,0%);stroke-opacity:1;stroke-miterlimit:10;\" d=\"M 32.195312 254.984375 C 32.195312 260.503906 27.714844 264.984375 22.195312 264.984375 C 16.671875 264.984375 12.195312 260.503906 12.195312 254.984375 C 12.195312 249.460938 16.671875 244.984375 22.195312 244.984375 C 27.714844 244.984375 32.195312 249.460938 32.195312 254.984375 \"/>\n",
       "<path style=\"fill-rule:nonzero;fill:rgb(0%,0%,100%);fill-opacity:1;stroke-width:1;stroke-linecap:butt;stroke-linejoin:miter;stroke:rgb(0%,0%,0%);stroke-opacity:1;stroke-miterlimit:10;\" d=\"M 30 202.511719 C 30 208.035156 25.523438 212.511719 20 212.511719 C 14.476562 212.511719 10 208.035156 10 202.511719 C 10 196.988281 14.476562 192.511719 20 192.511719 C 25.523438 192.511719 30 196.988281 30 202.511719 \"/>\n",
       "<path style=\"fill-rule:nonzero;fill:rgb(0%,0%,100%);fill-opacity:1;stroke-width:1;stroke-linecap:butt;stroke-linejoin:miter;stroke:rgb(0%,0%,0%);stroke-opacity:1;stroke-miterlimit:10;\" d=\"M 149.226562 20 C 149.226562 25.523438 144.746094 30 139.226562 30 C 133.703125 30 129.226562 25.523438 129.226562 20 C 129.226562 14.476562 133.703125 10 139.226562 10 C 144.746094 10 149.226562 14.476562 149.226562 20 \"/>\n",
       "<path style=\"fill-rule:nonzero;fill:rgb(0%,0%,100%);fill-opacity:1;stroke-width:1;stroke-linecap:butt;stroke-linejoin:miter;stroke:rgb(0%,0%,0%);stroke-opacity:1;stroke-miterlimit:10;\" d=\"M 124.042969 204.304688 C 124.042969 209.828125 119.566406 214.304688 114.042969 214.304688 C 108.523438 214.304688 104.042969 209.828125 104.042969 204.304688 C 104.042969 198.78125 108.523438 194.304688 114.042969 194.304688 C 119.566406 194.304688 124.042969 198.78125 124.042969 204.304688 \"/>\n",
       "<path style=\"fill-rule:nonzero;fill:rgb(0%,0%,100%);fill-opacity:1;stroke-width:1;stroke-linecap:butt;stroke-linejoin:miter;stroke:rgb(0%,0%,0%);stroke-opacity:1;stroke-miterlimit:10;\" d=\"M 211.511719 206.664062 C 211.511719 212.1875 207.035156 216.664062 201.511719 216.664062 C 195.988281 216.664062 191.511719 212.1875 191.511719 206.664062 C 191.511719 201.140625 195.988281 196.664062 201.511719 196.664062 C 207.035156 196.664062 211.511719 201.140625 211.511719 206.664062 \"/>\n",
       "<path style=\"fill-rule:nonzero;fill:rgb(0%,0%,100%);fill-opacity:1;stroke-width:1;stroke-linecap:butt;stroke-linejoin:miter;stroke:rgb(0%,0%,0%);stroke-opacity:1;stroke-miterlimit:10;\" d=\"M 171.679688 71.425781 C 171.679688 76.949219 167.203125 81.425781 161.679688 81.425781 C 156.15625 81.425781 151.679688 76.949219 151.679688 71.425781 C 151.679688 65.902344 156.15625 61.425781 161.679688 61.425781 C 167.203125 61.425781 171.679688 65.902344 171.679688 71.425781 \"/>\n",
       "<path style=\"fill-rule:nonzero;fill:rgb(0%,0%,100%);fill-opacity:1;stroke-width:1;stroke-linecap:butt;stroke-linejoin:miter;stroke:rgb(0%,0%,0%);stroke-opacity:1;stroke-miterlimit:10;\" d=\"M 364.4375 183.789062 C 364.4375 189.3125 359.960938 193.789062 354.4375 193.789062 C 348.914062 193.789062 344.4375 189.3125 344.4375 183.789062 C 344.4375 178.265625 348.914062 173.789062 354.4375 173.789062 C 359.960938 173.789062 364.4375 178.265625 364.4375 183.789062 \"/>\n",
       "<path style=\"fill-rule:nonzero;fill:rgb(0%,0%,100%);fill-opacity:1;stroke-width:1;stroke-linecap:butt;stroke-linejoin:miter;stroke:rgb(0%,0%,0%);stroke-opacity:1;stroke-miterlimit:10;\" d=\"M 197.785156 247.953125 C 197.785156 253.472656 193.308594 257.953125 187.785156 257.953125 C 182.261719 257.953125 177.785156 253.472656 177.785156 247.953125 C 177.785156 242.429688 182.261719 237.953125 187.785156 237.953125 C 193.308594 237.953125 197.785156 242.429688 197.785156 247.953125 \"/>\n",
       "<path style=\"fill-rule:nonzero;fill:rgb(0%,0%,100%);fill-opacity:1;stroke-width:1;stroke-linecap:butt;stroke-linejoin:miter;stroke:rgb(0%,0%,0%);stroke-opacity:1;stroke-miterlimit:10;\" d=\"M 257.027344 130.492188 C 257.027344 136.011719 252.546875 140.492188 247.027344 140.492188 C 241.503906 140.492188 237.027344 136.011719 237.027344 130.492188 C 237.027344 124.96875 241.503906 120.492188 247.027344 120.492188 C 252.546875 120.492188 257.027344 124.96875 257.027344 130.492188 \"/>\n",
       "<path style=\"fill-rule:nonzero;fill:rgb(0%,0%,100%);fill-opacity:1;stroke-width:1;stroke-linecap:butt;stroke-linejoin:miter;stroke:rgb(0%,0%,0%);stroke-opacity:1;stroke-miterlimit:10;\" d=\"M 244.273438 148.765625 C 244.273438 154.289062 239.796875 158.765625 234.273438 158.765625 C 228.75 158.765625 224.273438 154.289062 224.273438 148.765625 C 224.273438 143.242188 228.75 138.765625 234.273438 138.765625 C 239.796875 138.765625 244.273438 143.242188 244.273438 148.765625 \"/>\n",
       "</g>\n",
       "</svg>\n"
      ],
      "text/plain": [
       "<igraph.drawing.cairo.plot.CairoPlot at 0x7f9687a70bb0>"
      ]
     },
     "execution_count": 3,
     "metadata": {
      "image/svg+xml": {
       "isolated": true
      }
     },
     "output_type": "execute_result"
    }
   ],
   "source": [
    "# create a VertexClustering object\n",
    "vc = ig.VertexClustering(g, membership)\n",
    "\n",
    "# plot the graph with community structure\n",
    "layout = g.layout_fruchterman_reingold()\n",
    "ig.plot(vc, layout=layout)"
   ]
  },
  {
   "cell_type": "code",
   "execution_count": null,
   "id": "2b556942-91bc-4f5d-890b-a9be3c2d8f7f",
   "metadata": {},
   "outputs": [],
   "source": []
  }
 ],
 "metadata": {
  "kernelspec": {
   "display_name": "Python 3 (ipykernel)",
   "language": "python",
   "name": "python3"
  },
  "language_info": {
   "codemirror_mode": {
    "name": "ipython",
    "version": 3
   },
   "file_extension": ".py",
   "mimetype": "text/x-python",
   "name": "python",
   "nbconvert_exporter": "python",
   "pygments_lexer": "ipython3",
   "version": "3.10.6"
  }
 },
 "nbformat": 4,
 "nbformat_minor": 5
}
