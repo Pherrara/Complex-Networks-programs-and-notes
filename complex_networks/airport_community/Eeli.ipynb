{
 "cells": [
  {
   "cell_type": "code",
   "execution_count": 8,
   "id": "c9571d1f-c25d-4c11-a3a7-b0945bf28154",
   "metadata": {},
   "outputs": [],
   "source": [
    "import numpy as np\n",
    "import igraph as ig\n",
    "import random\n",
    "import matplotlib.pyplot as plt"
   ]
  },
  {
   "cell_type": "code",
   "execution_count": 9,
   "id": "1ff98f66-584e-480b-9256-945cbe6f9c5d",
   "metadata": {},
   "outputs": [],
   "source": [
    "g = ig.Graph.Read_Ncol(\"airport_original_edgelist.txt\", names=True, directed=False)\n",
    "airports_original = g"
   ]
  },
  {
   "cell_type": "code",
   "execution_count": 10,
   "id": "29f24ebe-834d-4cdf-8f94-0e82dae11810",
   "metadata": {},
   "outputs": [],
   "source": [
    "edgelist = airports_original.get_edgelist()"
   ]
  },
  {
   "cell_type": "code",
   "execution_count": 12,
   "id": "e582db18-a350-41ad-9bd8-bd8e49509784",
   "metadata": {},
   "outputs": [],
   "source": [
    "switched_edgelist = switch_edges(edgelist)"
   ]
  },
  {
   "cell_type": "code",
   "execution_count": 13,
   "id": "41c3e74f-b281-43e2-a6be-aa6cc1d4bbb0",
   "metadata": {},
   "outputs": [],
   "source": [
    "g = ig.Graph(switched_edgelist, directed = False)\n",
    "airports_switched = g"
   ]
  },
  {
   "cell_type": "code",
   "execution_count": 14,
   "id": "cfd8e030-dff8-451e-a147-ed9938cf3abd",
   "metadata": {},
   "outputs": [],
   "source": [
    "community_original = airports_original.community_multilevel()"
   ]
  },
  {
   "cell_type": "code",
   "execution_count": 15,
   "id": "1eac060a-5fa0-470d-afec-fd45c385a250",
   "metadata": {},
   "outputs": [],
   "source": [
    "community_switched = airports_switched.community_multilevel()"
   ]
  },
  {
   "cell_type": "code",
   "execution_count": 16,
   "id": "bf8b68c1-f3ba-49cc-9384-c70105ec21fa",
   "metadata": {},
   "outputs": [
    {
     "name": "stdout",
     "output_type": "stream",
     "text": [
      "0.00022900563316999265\n"
     ]
    }
   ],
   "source": [
    "ARI = ig.compare_communities(community_original, community_switched, method=\"adjusted_rand\")\n",
    "print(ARI)"
   ]
  }
 ],
 "metadata": {
  "kernelspec": {
   "display_name": "Python 3 (ipykernel)",
   "language": "python",
   "name": "python3"
  },
  "language_info": {
   "codemirror_mode": {
    "name": "ipython",
    "version": 3
   },
   "file_extension": ".py",
   "mimetype": "text/x-python",
   "name": "python",
   "nbconvert_exporter": "python",
   "pygments_lexer": "ipython3",
   "version": "3.10.6"
  }
 },
 "nbformat": 4,
 "nbformat_minor": 5
}
